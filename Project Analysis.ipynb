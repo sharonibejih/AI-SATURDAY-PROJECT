{
 "cells": [
  {
   "cell_type": "markdown",
   "metadata": {},
   "source": [
    " \n",
    "    \n",
    "<h1 align=center><font size = 5>AI SATURDAY LAGOS COHORT</font></h1>   \n",
    "\n",
    "   \n",
    "<h2 align=center><font size = 6>THE NIGERIA DEMOGRAPHY</font></h2><br>\n",
    "  \n",
    "  \n",
    "\n",
    "<h3 align=center><font size = 5>GROUP NAME: TEAM 2</font></h3>\n",
    "<h4 align=center><font size = 5>Members:</font></h4>\n",
    "\n",
    "<h5 align=center><font size = 4>\n",
    "<li> Abibat Akintobi</li><br>\n",
    "<li> Ayoade Adegbite</li><br>\n",
    "<li> Cyril Pepple</li><br>\n",
    "<li> Oluwatobiloba Ogunsola</li><br>\n",
    "<li> Ojo Olawale</li><br>\n",
    "<li> Sharon Ibejih </li>\n",
    "</font></h5>\n",
    "\n",
    "<h5 align=center><font size = 3>December, 2019.</font></h5>\n",
    "   \n",
    "    \n",
    "    \n",
    "    \n",
    "  "
   ]
  },
  {
   "cell_type": "markdown",
   "metadata": {},
   "source": [
    "### _Abstract_\n",
    "\n",
    "_Nigeria, one of the most prominent nations in Africa, is well known by her high population density. It is also known to have a GDP estimate of USD 375 billion as at 2012 according to IMF (International Monetary Fund), making the country rank 30th largest economy in the world. This article focused on the big question that asked if there is a healthy relationship between the huge GDP and quality life of the citizens. Initially a survey was carried out to obtain data on relevant features in determining the standard of living in the country. The project analysis gave a broad view on how poorly most Nigerians earn and perharps live._"
   ]
  },
  {
   "cell_type": "markdown",
   "metadata": {},
   "source": [
    "## 1. Introduction\n",
    "\n",
    "According to the National Population Commission, Nigeria had a population of 193 million as at 2016, with an annual growing rate of 3.2%. The dependency ratio in the country was about 88.2% per 100 non-dependents (less than 15 years, older than 60 years) and 41% of the nation's population were below 15 years of age. According to the UN World Population Prospects (2017), the country's population could reach 410 million by 2050. With this yearning growth rate, and likely youth bulge in the nearest future, there is a huge concern on the economic state of the nation. Will the country be capable of taking care of their uprising citizens? What challenges are those currently in their prime (25-59 years) facing and how can they be handled? How can the dependent older population get sustained and benefitted through their life span? These concerns suggest some gaps in the delivery of socio-economic benefit to the age structures of the population."
   ]
  },
  {
   "cell_type": "markdown",
   "metadata": {},
   "source": [
    "Due to such recent observations by some research works and bodies, projects that attempts to determine and measure the inequality that stands between the high GDP rate of a country and the state of decline in the quality of living of its citizens are being encouraged. This is to properly understand the scope of the problems that exist and suggest strategies which can result to solutions in the country."
   ]
  },
  {
   "cell_type": "markdown",
   "metadata": {},
   "source": [
    "## 2. Problem Statement\n",
    "\n",
    "Nigeria, a country with a population 186 million people, is often referred to as the \"Giant of Africa\".  \n",
    "Nigeria owns this title because the following: \n",
    "1. It is/was the most populous country in Africa. \n",
    "2. It is/was home to the sixth largest urban center in the world. \n",
    "3. It is/was the country the biggest economy in Africa\n",
    "\n",
    "\n",
    "Today, this is not the case, citizens and foreigners doubt and challenge this title with some facts. Some say poverty is high, some say leadership is bad, some say the citizens are barbarians. \n",
    "As data scientists, we attempt to understand the life of Nigerians and also question the Nigerian economy and lifestyle to proffer solution based on data."
   ]
  },
  {
   "cell_type": "markdown",
   "metadata": {},
   "source": [
    "## 3. Materials and Methods\n",
    "\n",
    "The dataset used in this work was complied as NIGERIA_DEMOGRAPHICS_DATA.csv, from a survey conducted about a month back from the date of this analysis. It focused on the age bracket of the respondents, their occupation, location, salary range and a few other related information. These data sets will be used to check through the lives of most Nigerians and how standard their living is on an average. "
   ]
  },
  {
   "cell_type": "markdown",
   "metadata": {},
   "source": [
    "The analytical process of this work started with cleaning the data derived. Cleaning is simply making the data good enough for use. This was done by filling the empty cells with either the most frequent input or average input of that affected column. The column headers were also renamed to look brief and flexible. Aside the cleaning, some manipulations were required as well for convenience sake to yield a proper analysis. From tablular representations to visualizations of the data we had at hand, we were able to arrive at some datailed point which gave a clear understanding on the lifestyle of most Nigerians and the challenges many are facing.\n",
    "\n",
    "Please note that the currency represented in this project is Naira; so every monetary value here should be ascribed to that."
   ]
  },
  {
   "cell_type": "markdown",
   "metadata": {},
   "source": [
    "## 4. Analysis<a id=\"6\"></a>\n",
    "\n"
   ]
  },
  {
   "cell_type": "code",
   "execution_count": 2,
   "metadata": {},
   "outputs": [],
   "source": [
    "import numpy as np\n",
    "import pandas as pd"
   ]
  },
  {
   "cell_type": "code",
   "execution_count": 3,
   "metadata": {},
   "outputs": [],
   "source": [
    "Data = pd.read_csv('NIGERIA_DEMOGRAPHICS_DATA.csv')"
   ]
  },
  {
   "cell_type": "code",
   "execution_count": 4,
   "metadata": {},
   "outputs": [
    {
     "data": {
      "text/plain": [
       "array(['Timestamp', 'Are you a Nigerian?', 'Gender', 'Age Group',\n",
       "       'Are you married?', 'Do you have kids?', 'Where do you live?',\n",
       "       'What part of your state do you live in?', 'Occupation',\n",
       "       'Are you Happy with your job?',\n",
       "       'Is this your primary source of income?',\n",
       "       'What is your steady/constant income range in a month?',\n",
       "       'Do you think it is enough for you and your family?',\n",
       "       'What are your other sources of income? ', 'Do you pay your tax?',\n",
       "       'What is your largest form of expense',\n",
       "       'If there was one thing you really wanted to own, what would that be?',\n",
       "       'How much do you think you earn from all other sources of income in a month',\n",
       "       'On an average, how much do you think you spend in a month?',\n",
       "       'Do you think Nigeria can get better?',\n",
       "       'In a short sentence, describe your government',\n",
       "       'Please fill your email if you want to be notified once this research is completed.'],\n",
       "      dtype=object)"
      ]
     },
     "execution_count": 4,
     "metadata": {},
     "output_type": "execute_result"
    }
   ],
   "source": [
    "Data.columns.values"
   ]
  },
  {
   "cell_type": "markdown",
   "metadata": {},
   "source": [
    "Since the column headers look very long and clumsy, we would have to rename them into something shorter and understandable."
   ]
  },
  {
   "cell_type": "code",
   "execution_count": 5,
   "metadata": {},
   "outputs": [],
   "source": [
    "Data.rename(columns = {'Are you a Nigerian?': 'Nigerian Citizen',\n",
    "                       'Are you married?': 'Married',\n",
    "                    'Do you have kids?': 'Parenting' , \n",
    "                    'Where do you live?': 'State of Residence', \n",
    "                    'What part of your state do you live in?': 'Area of Residence', \n",
    "                    'Are you Happy with your job?': 'Job Satisfaction', \n",
    "                    'Is this your primary source of income?': 'Job as primary income',\n",
    "                   'What is your steady/constant income range in a month?': 'Monthly Primary Income',\n",
    "                   'Do you think it is enough for you and your family?': 'Income sufficiency',\n",
    "                   'What are your other sources of income? ': 'Secondary income',\n",
    "                   'Do you pay your tax?': 'Tax Payment',\n",
    "                   'What is your largest form of expense': 'Major Monthly Expense',\n",
    "                   'If there was one thing you really wanted to own, what would that be?': 'Aspiring Possession',\n",
    "                   'How much do you think you earn from all other sources of income in a month': 'Cumulative Secondary Income',\n",
    "                   'On an average, how much do you think you spend in a month?': 'Monthly Expenditure',\n",
    "                   'Do you think Nigeria can get better?': 'Is Nigeria Hopeful',\n",
    "                   'In a short sentence, describe your government': 'Thought about the government',\n",
    "                   'Please fill your email if you want to be notified once this research is completed.': 'E-mails'\n",
    "                   }, inplace= True\n",
    "           )"
   ]
  },
  {
   "cell_type": "code",
   "execution_count": 6,
   "metadata": {},
   "outputs": [
    {
     "data": {
      "text/plain": [
       "(303, 22)"
      ]
     },
     "execution_count": 6,
     "metadata": {},
     "output_type": "execute_result"
    }
   ],
   "source": [
    "Data.shape"
   ]
  },
  {
   "cell_type": "markdown",
   "metadata": {},
   "source": [
    "From the dataset, we desire to drop some columns we might not be working with. These are the 'Timestamp' and 'E-mails' columns. This is because neither of them have much impact on our project statement."
   ]
  },
  {
   "cell_type": "code",
   "execution_count": 7,
   "metadata": {},
   "outputs": [],
   "source": [
    "Data.drop(['Timestamp','E-mails'], axis = 1, inplace = True)"
   ]
  },
  {
   "cell_type": "code",
   "execution_count": 8,
   "metadata": {},
   "outputs": [
    {
     "data": {
      "text/plain": [
       "Nigerian Citizen                15\n",
       "Gender                           0\n",
       "Age Group                        0\n",
       "Married                          0\n",
       "Parenting                        0\n",
       "State of Residence               0\n",
       "Area of Residence                0\n",
       "Occupation                       1\n",
       "Job Satisfaction                 0\n",
       "Job as primary income            0\n",
       "Monthly Primary Income           0\n",
       "Income sufficiency               0\n",
       "Secondary income                 1\n",
       "Tax Payment                      0\n",
       "Major Monthly Expense            0\n",
       "Aspiring Possession              0\n",
       "Cumulative Secondary Income      1\n",
       "Monthly Expenditure              0\n",
       "Is Nigeria Hopeful               0\n",
       "Thought about the government     1\n",
       "dtype: int64"
      ]
     },
     "execution_count": 8,
     "metadata": {},
     "output_type": "execute_result"
    }
   ],
   "source": [
    "Data.isnull().sum()"
   ]
  },
  {
   "cell_type": "markdown",
   "metadata": {},
   "source": [
    "From the above result, it is discovered that some column values are missing. There are various methods of fixing this. Since we do not have the luxury of datasets, we will be mindful of the method we opt for. \n",
    "\n",
    "<li>For the 'Nigerian Citizen', we will be replacing the missing values with the most frequent in the column.</li>\n",
    "<li>The 'Occupation', 'Secondary income' and 'Cumulative Secondary Income' columns will be filled with 'No Job', 'None' and 0 respectively.</li>\n",
    "This is because they all have just one missing value and we will choose to almost reflect them with a null input. "
   ]
  },
  {
   "cell_type": "code",
   "execution_count": 9,
   "metadata": {},
   "outputs": [
    {
     "data": {
      "text/html": [
       "<div>\n",
       "<style scoped>\n",
       "    .dataframe tbody tr th:only-of-type {\n",
       "        vertical-align: middle;\n",
       "    }\n",
       "\n",
       "    .dataframe tbody tr th {\n",
       "        vertical-align: top;\n",
       "    }\n",
       "\n",
       "    .dataframe thead th {\n",
       "        text-align: right;\n",
       "    }\n",
       "</style>\n",
       "<table border=\"1\" class=\"dataframe\">\n",
       "  <thead>\n",
       "    <tr style=\"text-align: right;\">\n",
       "      <th></th>\n",
       "      <th>Nigerian Citizen</th>\n",
       "      <th>Gender</th>\n",
       "      <th>Age Group</th>\n",
       "      <th>Married</th>\n",
       "      <th>Parenting</th>\n",
       "      <th>State of Residence</th>\n",
       "      <th>Area of Residence</th>\n",
       "      <th>Occupation</th>\n",
       "      <th>Job Satisfaction</th>\n",
       "      <th>Job as primary income</th>\n",
       "      <th>Monthly Primary Income</th>\n",
       "      <th>Income sufficiency</th>\n",
       "      <th>Secondary income</th>\n",
       "      <th>Tax Payment</th>\n",
       "      <th>Major Monthly Expense</th>\n",
       "      <th>Aspiring Possession</th>\n",
       "      <th>Cumulative Secondary Income</th>\n",
       "      <th>Monthly Expenditure</th>\n",
       "      <th>Is Nigeria Hopeful</th>\n",
       "      <th>Thought about the government</th>\n",
       "    </tr>\n",
       "  </thead>\n",
       "  <tbody>\n",
       "    <tr>\n",
       "      <th>count</th>\n",
       "      <td>288</td>\n",
       "      <td>303</td>\n",
       "      <td>303</td>\n",
       "      <td>303</td>\n",
       "      <td>303</td>\n",
       "      <td>303</td>\n",
       "      <td>303</td>\n",
       "      <td>302</td>\n",
       "      <td>303</td>\n",
       "      <td>303</td>\n",
       "      <td>303</td>\n",
       "      <td>303</td>\n",
       "      <td>302</td>\n",
       "      <td>303</td>\n",
       "      <td>303</td>\n",
       "      <td>303</td>\n",
       "      <td>3.020000e+02</td>\n",
       "      <td>3.030000e+02</td>\n",
       "      <td>303</td>\n",
       "      <td>302</td>\n",
       "    </tr>\n",
       "    <tr>\n",
       "      <th>unique</th>\n",
       "      <td>2</td>\n",
       "      <td>3</td>\n",
       "      <td>5</td>\n",
       "      <td>2</td>\n",
       "      <td>2</td>\n",
       "      <td>20</td>\n",
       "      <td>4</td>\n",
       "      <td>13</td>\n",
       "      <td>2</td>\n",
       "      <td>2</td>\n",
       "      <td>10</td>\n",
       "      <td>2</td>\n",
       "      <td>17</td>\n",
       "      <td>2</td>\n",
       "      <td>9</td>\n",
       "      <td>6</td>\n",
       "      <td>NaN</td>\n",
       "      <td>NaN</td>\n",
       "      <td>2</td>\n",
       "      <td>268</td>\n",
       "    </tr>\n",
       "    <tr>\n",
       "      <th>top</th>\n",
       "      <td>Yes</td>\n",
       "      <td>Male</td>\n",
       "      <td>18 – 25</td>\n",
       "      <td>No</td>\n",
       "      <td>No</td>\n",
       "      <td>Lagos</td>\n",
       "      <td>Urban</td>\n",
       "      <td>Software Engineering /Computer Design</td>\n",
       "      <td>Yes</td>\n",
       "      <td>Yes</td>\n",
       "      <td>21,000 – 50,000</td>\n",
       "      <td>No</td>\n",
       "      <td>None</td>\n",
       "      <td>Yes</td>\n",
       "      <td>Feeding</td>\n",
       "      <td>A Company</td>\n",
       "      <td>NaN</td>\n",
       "      <td>NaN</td>\n",
       "      <td>Yes</td>\n",
       "      <td>Corrupt</td>\n",
       "    </tr>\n",
       "    <tr>\n",
       "      <th>freq</th>\n",
       "      <td>285</td>\n",
       "      <td>216</td>\n",
       "      <td>181</td>\n",
       "      <td>269</td>\n",
       "      <td>279</td>\n",
       "      <td>229</td>\n",
       "      <td>167</td>\n",
       "      <td>50</td>\n",
       "      <td>176</td>\n",
       "      <td>238</td>\n",
       "      <td>82</td>\n",
       "      <td>283</td>\n",
       "      <td>102</td>\n",
       "      <td>176</td>\n",
       "      <td>102</td>\n",
       "      <td>130</td>\n",
       "      <td>NaN</td>\n",
       "      <td>NaN</td>\n",
       "      <td>224</td>\n",
       "      <td>7</td>\n",
       "    </tr>\n",
       "    <tr>\n",
       "      <th>mean</th>\n",
       "      <td>NaN</td>\n",
       "      <td>NaN</td>\n",
       "      <td>NaN</td>\n",
       "      <td>NaN</td>\n",
       "      <td>NaN</td>\n",
       "      <td>NaN</td>\n",
       "      <td>NaN</td>\n",
       "      <td>NaN</td>\n",
       "      <td>NaN</td>\n",
       "      <td>NaN</td>\n",
       "      <td>NaN</td>\n",
       "      <td>NaN</td>\n",
       "      <td>NaN</td>\n",
       "      <td>NaN</td>\n",
       "      <td>NaN</td>\n",
       "      <td>NaN</td>\n",
       "      <td>6.627668e+07</td>\n",
       "      <td>1.650782e+08</td>\n",
       "      <td>NaN</td>\n",
       "      <td>NaN</td>\n",
       "    </tr>\n",
       "    <tr>\n",
       "      <th>std</th>\n",
       "      <td>NaN</td>\n",
       "      <td>NaN</td>\n",
       "      <td>NaN</td>\n",
       "      <td>NaN</td>\n",
       "      <td>NaN</td>\n",
       "      <td>NaN</td>\n",
       "      <td>NaN</td>\n",
       "      <td>NaN</td>\n",
       "      <td>NaN</td>\n",
       "      <td>NaN</td>\n",
       "      <td>NaN</td>\n",
       "      <td>NaN</td>\n",
       "      <td>NaN</td>\n",
       "      <td>NaN</td>\n",
       "      <td>NaN</td>\n",
       "      <td>NaN</td>\n",
       "      <td>8.124313e+08</td>\n",
       "      <td>2.872421e+09</td>\n",
       "      <td>NaN</td>\n",
       "      <td>NaN</td>\n",
       "    </tr>\n",
       "    <tr>\n",
       "      <th>min</th>\n",
       "      <td>NaN</td>\n",
       "      <td>NaN</td>\n",
       "      <td>NaN</td>\n",
       "      <td>NaN</td>\n",
       "      <td>NaN</td>\n",
       "      <td>NaN</td>\n",
       "      <td>NaN</td>\n",
       "      <td>NaN</td>\n",
       "      <td>NaN</td>\n",
       "      <td>NaN</td>\n",
       "      <td>NaN</td>\n",
       "      <td>NaN</td>\n",
       "      <td>NaN</td>\n",
       "      <td>NaN</td>\n",
       "      <td>NaN</td>\n",
       "      <td>NaN</td>\n",
       "      <td>0.000000e+00</td>\n",
       "      <td>0.000000e+00</td>\n",
       "      <td>NaN</td>\n",
       "      <td>NaN</td>\n",
       "    </tr>\n",
       "    <tr>\n",
       "      <th>25%</th>\n",
       "      <td>NaN</td>\n",
       "      <td>NaN</td>\n",
       "      <td>NaN</td>\n",
       "      <td>NaN</td>\n",
       "      <td>NaN</td>\n",
       "      <td>NaN</td>\n",
       "      <td>NaN</td>\n",
       "      <td>NaN</td>\n",
       "      <td>NaN</td>\n",
       "      <td>NaN</td>\n",
       "      <td>NaN</td>\n",
       "      <td>NaN</td>\n",
       "      <td>NaN</td>\n",
       "      <td>NaN</td>\n",
       "      <td>NaN</td>\n",
       "      <td>NaN</td>\n",
       "      <td>5.500000e+01</td>\n",
       "      <td>2.000000e+04</td>\n",
       "      <td>NaN</td>\n",
       "      <td>NaN</td>\n",
       "    </tr>\n",
       "    <tr>\n",
       "      <th>50%</th>\n",
       "      <td>NaN</td>\n",
       "      <td>NaN</td>\n",
       "      <td>NaN</td>\n",
       "      <td>NaN</td>\n",
       "      <td>NaN</td>\n",
       "      <td>NaN</td>\n",
       "      <td>NaN</td>\n",
       "      <td>NaN</td>\n",
       "      <td>NaN</td>\n",
       "      <td>NaN</td>\n",
       "      <td>NaN</td>\n",
       "      <td>NaN</td>\n",
       "      <td>NaN</td>\n",
       "      <td>NaN</td>\n",
       "      <td>NaN</td>\n",
       "      <td>NaN</td>\n",
       "      <td>1.500000e+04</td>\n",
       "      <td>4.700000e+04</td>\n",
       "      <td>NaN</td>\n",
       "      <td>NaN</td>\n",
       "    </tr>\n",
       "    <tr>\n",
       "      <th>75%</th>\n",
       "      <td>NaN</td>\n",
       "      <td>NaN</td>\n",
       "      <td>NaN</td>\n",
       "      <td>NaN</td>\n",
       "      <td>NaN</td>\n",
       "      <td>NaN</td>\n",
       "      <td>NaN</td>\n",
       "      <td>NaN</td>\n",
       "      <td>NaN</td>\n",
       "      <td>NaN</td>\n",
       "      <td>NaN</td>\n",
       "      <td>NaN</td>\n",
       "      <td>NaN</td>\n",
       "      <td>NaN</td>\n",
       "      <td>NaN</td>\n",
       "      <td>NaN</td>\n",
       "      <td>5.000000e+04</td>\n",
       "      <td>8.000000e+04</td>\n",
       "      <td>NaN</td>\n",
       "      <td>NaN</td>\n",
       "    </tr>\n",
       "    <tr>\n",
       "      <th>max</th>\n",
       "      <td>NaN</td>\n",
       "      <td>NaN</td>\n",
       "      <td>NaN</td>\n",
       "      <td>NaN</td>\n",
       "      <td>NaN</td>\n",
       "      <td>NaN</td>\n",
       "      <td>NaN</td>\n",
       "      <td>NaN</td>\n",
       "      <td>NaN</td>\n",
       "      <td>NaN</td>\n",
       "      <td>NaN</td>\n",
       "      <td>NaN</td>\n",
       "      <td>NaN</td>\n",
       "      <td>NaN</td>\n",
       "      <td>NaN</td>\n",
       "      <td>NaN</td>\n",
       "      <td>1.000000e+10</td>\n",
       "      <td>5.000000e+10</td>\n",
       "      <td>NaN</td>\n",
       "      <td>NaN</td>\n",
       "    </tr>\n",
       "  </tbody>\n",
       "</table>\n",
       "</div>"
      ],
      "text/plain": [
       "       Nigerian Citizen Gender Age Group Married Parenting State of Residence  \\\n",
       "count               288    303       303     303       303                303   \n",
       "unique                2      3         5       2         2                 20   \n",
       "top                 Yes   Male   18 – 25      No        No              Lagos   \n",
       "freq                285    216       181     269       279                229   \n",
       "mean                NaN    NaN       NaN     NaN       NaN                NaN   \n",
       "std                 NaN    NaN       NaN     NaN       NaN                NaN   \n",
       "min                 NaN    NaN       NaN     NaN       NaN                NaN   \n",
       "25%                 NaN    NaN       NaN     NaN       NaN                NaN   \n",
       "50%                 NaN    NaN       NaN     NaN       NaN                NaN   \n",
       "75%                 NaN    NaN       NaN     NaN       NaN                NaN   \n",
       "max                 NaN    NaN       NaN     NaN       NaN                NaN   \n",
       "\n",
       "       Area of Residence                             Occupation  \\\n",
       "count                303                                    302   \n",
       "unique                 4                                     13   \n",
       "top                Urban  Software Engineering /Computer Design   \n",
       "freq                 167                                     50   \n",
       "mean                 NaN                                    NaN   \n",
       "std                  NaN                                    NaN   \n",
       "min                  NaN                                    NaN   \n",
       "25%                  NaN                                    NaN   \n",
       "50%                  NaN                                    NaN   \n",
       "75%                  NaN                                    NaN   \n",
       "max                  NaN                                    NaN   \n",
       "\n",
       "       Job Satisfaction Job as primary income Monthly Primary Income  \\\n",
       "count               303                   303                    303   \n",
       "unique                2                     2                     10   \n",
       "top                 Yes                   Yes        21,000 – 50,000   \n",
       "freq                176                   238                     82   \n",
       "mean                NaN                   NaN                    NaN   \n",
       "std                 NaN                   NaN                    NaN   \n",
       "min                 NaN                   NaN                    NaN   \n",
       "25%                 NaN                   NaN                    NaN   \n",
       "50%                 NaN                   NaN                    NaN   \n",
       "75%                 NaN                   NaN                    NaN   \n",
       "max                 NaN                   NaN                    NaN   \n",
       "\n",
       "       Income sufficiency Secondary income Tax Payment Major Monthly Expense  \\\n",
       "count                 303              302         303                   303   \n",
       "unique                  2               17           2                     9   \n",
       "top                    No             None         Yes               Feeding   \n",
       "freq                  283              102         176                   102   \n",
       "mean                  NaN              NaN         NaN                   NaN   \n",
       "std                   NaN              NaN         NaN                   NaN   \n",
       "min                   NaN              NaN         NaN                   NaN   \n",
       "25%                   NaN              NaN         NaN                   NaN   \n",
       "50%                   NaN              NaN         NaN                   NaN   \n",
       "75%                   NaN              NaN         NaN                   NaN   \n",
       "max                   NaN              NaN         NaN                   NaN   \n",
       "\n",
       "       Aspiring Possession  Cumulative Secondary Income  Monthly Expenditure  \\\n",
       "count                  303                 3.020000e+02         3.030000e+02   \n",
       "unique                   6                          NaN                  NaN   \n",
       "top              A Company                          NaN                  NaN   \n",
       "freq                   130                          NaN                  NaN   \n",
       "mean                   NaN                 6.627668e+07         1.650782e+08   \n",
       "std                    NaN                 8.124313e+08         2.872421e+09   \n",
       "min                    NaN                 0.000000e+00         0.000000e+00   \n",
       "25%                    NaN                 5.500000e+01         2.000000e+04   \n",
       "50%                    NaN                 1.500000e+04         4.700000e+04   \n",
       "75%                    NaN                 5.000000e+04         8.000000e+04   \n",
       "max                    NaN                 1.000000e+10         5.000000e+10   \n",
       "\n",
       "       Is Nigeria Hopeful Thought about the government  \n",
       "count                 303                          302  \n",
       "unique                  2                          268  \n",
       "top                   Yes                      Corrupt  \n",
       "freq                  224                            7  \n",
       "mean                  NaN                          NaN  \n",
       "std                   NaN                          NaN  \n",
       "min                   NaN                          NaN  \n",
       "25%                   NaN                          NaN  \n",
       "50%                   NaN                          NaN  \n",
       "75%                   NaN                          NaN  \n",
       "max                   NaN                          NaN  "
      ]
     },
     "execution_count": 9,
     "metadata": {},
     "output_type": "execute_result"
    }
   ],
   "source": [
    "Data.describe(include='all')"
   ]
  },
  {
   "cell_type": "code",
   "execution_count": 10,
   "metadata": {},
   "outputs": [],
   "source": [
    "Data.loc[ :,('Nigerian Citizen')] =  Data['Nigerian Citizen'].fillna('Yes')"
   ]
  },
  {
   "cell_type": "code",
   "execution_count": 11,
   "metadata": {},
   "outputs": [],
   "source": [
    "Data.loc[:,('Occupation')]=Data['Occupation'].fillna('No Job')"
   ]
  },
  {
   "cell_type": "code",
   "execution_count": 12,
   "metadata": {},
   "outputs": [],
   "source": [
    "Data.loc[:,('Secondary income')] = Data['Secondary income'].fillna('None')"
   ]
  },
  {
   "cell_type": "code",
   "execution_count": 13,
   "metadata": {},
   "outputs": [],
   "source": [
    "Data.loc[:,('Cumulative Secondary Income')]= Data['Cumulative Secondary Income'].fillna(0)"
   ]
  },
  {
   "cell_type": "code",
   "execution_count": 14,
   "metadata": {},
   "outputs": [],
   "source": [
    "Data.loc[:,('Thought about the government')]= Data['Thought about the government'].fillna(method='pad')"
   ]
  },
  {
   "cell_type": "code",
   "execution_count": 15,
   "metadata": {},
   "outputs": [
    {
     "name": "stdout",
     "output_type": "stream",
     "text": [
      "<class 'pandas.core.frame.DataFrame'>\n",
      "RangeIndex: 303 entries, 0 to 302\n",
      "Data columns (total 20 columns):\n",
      "Nigerian Citizen                303 non-null object\n",
      "Gender                          303 non-null object\n",
      "Age Group                       303 non-null object\n",
      "Married                         303 non-null object\n",
      "Parenting                       303 non-null object\n",
      "State of Residence              303 non-null object\n",
      "Area of Residence               303 non-null object\n",
      "Occupation                      303 non-null object\n",
      "Job Satisfaction                303 non-null object\n",
      "Job as primary income           303 non-null object\n",
      "Monthly Primary Income          303 non-null object\n",
      "Income sufficiency              303 non-null object\n",
      "Secondary income                303 non-null object\n",
      "Tax Payment                     303 non-null object\n",
      "Major Monthly Expense           303 non-null object\n",
      "Aspiring Possession             303 non-null object\n",
      "Cumulative Secondary Income     303 non-null float64\n",
      "Monthly Expenditure             303 non-null int64\n",
      "Is Nigeria Hopeful              303 non-null object\n",
      "Thought about the government    303 non-null object\n",
      "dtypes: float64(1), int64(1), object(18)\n",
      "memory usage: 47.4+ KB\n"
     ]
    }
   ],
   "source": [
    "Data.info()"
   ]
  },
  {
   "cell_type": "code",
   "execution_count": 16,
   "metadata": {},
   "outputs": [
    {
     "data": {
      "text/html": [
       "<div>\n",
       "<style scoped>\n",
       "    .dataframe tbody tr th:only-of-type {\n",
       "        vertical-align: middle;\n",
       "    }\n",
       "\n",
       "    .dataframe tbody tr th {\n",
       "        vertical-align: top;\n",
       "    }\n",
       "\n",
       "    .dataframe thead th {\n",
       "        text-align: right;\n",
       "    }\n",
       "</style>\n",
       "<table border=\"1\" class=\"dataframe\">\n",
       "  <thead>\n",
       "    <tr style=\"text-align: right;\">\n",
       "      <th></th>\n",
       "      <th>Nigerian Citizen</th>\n",
       "      <th>Gender</th>\n",
       "      <th>Age Group</th>\n",
       "      <th>Married</th>\n",
       "      <th>Parenting</th>\n",
       "      <th>State of Residence</th>\n",
       "      <th>Area of Residence</th>\n",
       "      <th>Occupation</th>\n",
       "      <th>Job Satisfaction</th>\n",
       "      <th>Job as primary income</th>\n",
       "      <th>Monthly Primary Income</th>\n",
       "      <th>Income sufficiency</th>\n",
       "      <th>Secondary income</th>\n",
       "      <th>Tax Payment</th>\n",
       "      <th>Major Monthly Expense</th>\n",
       "      <th>Aspiring Possession</th>\n",
       "      <th>Cumulative Secondary Income</th>\n",
       "      <th>Monthly Expenditure</th>\n",
       "      <th>Is Nigeria Hopeful</th>\n",
       "      <th>Thought about the government</th>\n",
       "    </tr>\n",
       "  </thead>\n",
       "  <tbody>\n",
       "    <tr>\n",
       "      <th>0</th>\n",
       "      <td>Yes</td>\n",
       "      <td>Female</td>\n",
       "      <td>18 – 25</td>\n",
       "      <td>No</td>\n",
       "      <td>No</td>\n",
       "      <td>Lagos</td>\n",
       "      <td>Rural</td>\n",
       "      <td>No Job</td>\n",
       "      <td>No</td>\n",
       "      <td>No</td>\n",
       "      <td>Below 5000</td>\n",
       "      <td>No</td>\n",
       "      <td>None</td>\n",
       "      <td>No</td>\n",
       "      <td>Feeding</td>\n",
       "      <td>A Company</td>\n",
       "      <td>0.0</td>\n",
       "      <td>25000</td>\n",
       "      <td>Yes</td>\n",
       "      <td>Frustrating</td>\n",
       "    </tr>\n",
       "    <tr>\n",
       "      <th>1</th>\n",
       "      <td>Yes</td>\n",
       "      <td>Female</td>\n",
       "      <td>18 – 25</td>\n",
       "      <td>No</td>\n",
       "      <td>No</td>\n",
       "      <td>Lagos</td>\n",
       "      <td>Rural</td>\n",
       "      <td>No Job</td>\n",
       "      <td>No</td>\n",
       "      <td>No</td>\n",
       "      <td>11,000 – 20,000</td>\n",
       "      <td>No</td>\n",
       "      <td>Free Lancing</td>\n",
       "      <td>No</td>\n",
       "      <td>Transportation</td>\n",
       "      <td>A House</td>\n",
       "      <td>18000.0</td>\n",
       "      <td>20000</td>\n",
       "      <td>Yes</td>\n",
       "      <td>Greedy, self centered and dull</td>\n",
       "    </tr>\n",
       "    <tr>\n",
       "      <th>2</th>\n",
       "      <td>Yes</td>\n",
       "      <td>Male</td>\n",
       "      <td>36 – 45</td>\n",
       "      <td>Yes</td>\n",
       "      <td>Yes</td>\n",
       "      <td>Lagos</td>\n",
       "      <td>City</td>\n",
       "      <td>Financial Services</td>\n",
       "      <td>Yes</td>\n",
       "      <td>Yes</td>\n",
       "      <td>110,000 – 200,000</td>\n",
       "      <td>No</td>\n",
       "      <td>Free Lancing</td>\n",
       "      <td>Yes</td>\n",
       "      <td>School Fees</td>\n",
       "      <td>A Company</td>\n",
       "      <td>40000.0</td>\n",
       "      <td>140000</td>\n",
       "      <td>Yes</td>\n",
       "      <td>Our government do not care about what the mass...</td>\n",
       "    </tr>\n",
       "    <tr>\n",
       "      <th>3</th>\n",
       "      <td>Yes</td>\n",
       "      <td>Female</td>\n",
       "      <td>26 – 35</td>\n",
       "      <td>No</td>\n",
       "      <td>No</td>\n",
       "      <td>Lagos</td>\n",
       "      <td>City</td>\n",
       "      <td>Business</td>\n",
       "      <td>Yes</td>\n",
       "      <td>Yes</td>\n",
       "      <td>201,000 – 300,000</td>\n",
       "      <td>No</td>\n",
       "      <td>Buying and Selling</td>\n",
       "      <td>Yes</td>\n",
       "      <td>Transportation</td>\n",
       "      <td>Money</td>\n",
       "      <td>500000.0</td>\n",
       "      <td>100000</td>\n",
       "      <td>Yes</td>\n",
       "      <td>There is discrepancy in Nigeria's governance. ...</td>\n",
       "    </tr>\n",
       "    <tr>\n",
       "      <th>4</th>\n",
       "      <td>Yes</td>\n",
       "      <td>Male</td>\n",
       "      <td>26 – 35</td>\n",
       "      <td>No</td>\n",
       "      <td>No</td>\n",
       "      <td>Lagos</td>\n",
       "      <td>Rural</td>\n",
       "      <td>Engineering</td>\n",
       "      <td>Yes</td>\n",
       "      <td>Yes</td>\n",
       "      <td>110,000 – 200,000</td>\n",
       "      <td>Yes</td>\n",
       "      <td>Formal Job</td>\n",
       "      <td>Yes</td>\n",
       "      <td>Transportation</td>\n",
       "      <td>A Company</td>\n",
       "      <td>0.0</td>\n",
       "      <td>60000</td>\n",
       "      <td>Yes</td>\n",
       "      <td>It is a corrupt one lead by inconsiderate fell...</td>\n",
       "    </tr>\n",
       "  </tbody>\n",
       "</table>\n",
       "</div>"
      ],
      "text/plain": [
       "  Nigerian Citizen  Gender Age Group Married Parenting State of Residence  \\\n",
       "0              Yes  Female   18 – 25      No        No              Lagos   \n",
       "1              Yes  Female   18 – 25      No        No              Lagos   \n",
       "2              Yes    Male   36 – 45     Yes       Yes              Lagos   \n",
       "3              Yes  Female   26 – 35      No        No              Lagos   \n",
       "4              Yes    Male   26 – 35      No        No              Lagos   \n",
       "\n",
       "  Area of Residence          Occupation Job Satisfaction  \\\n",
       "0             Rural              No Job               No   \n",
       "1             Rural              No Job               No   \n",
       "2              City  Financial Services              Yes   \n",
       "3              City            Business              Yes   \n",
       "4             Rural         Engineering              Yes   \n",
       "\n",
       "  Job as primary income Monthly Primary Income Income sufficiency  \\\n",
       "0                    No             Below 5000                 No   \n",
       "1                    No        11,000 – 20,000                 No   \n",
       "2                   Yes      110,000 – 200,000                 No   \n",
       "3                   Yes      201,000 – 300,000                 No   \n",
       "4                   Yes      110,000 – 200,000                Yes   \n",
       "\n",
       "     Secondary income Tax Payment Major Monthly Expense Aspiring Possession  \\\n",
       "0                None          No               Feeding           A Company   \n",
       "1        Free Lancing          No        Transportation             A House   \n",
       "2        Free Lancing         Yes           School Fees           A Company   \n",
       "3  Buying and Selling         Yes        Transportation               Money   \n",
       "4          Formal Job         Yes        Transportation           A Company   \n",
       "\n",
       "   Cumulative Secondary Income  Monthly Expenditure Is Nigeria Hopeful  \\\n",
       "0                          0.0                25000                Yes   \n",
       "1                      18000.0                20000                Yes   \n",
       "2                      40000.0               140000                Yes   \n",
       "3                     500000.0               100000                Yes   \n",
       "4                          0.0                60000                Yes   \n",
       "\n",
       "                        Thought about the government  \n",
       "0                                        Frustrating  \n",
       "1                     Greedy, self centered and dull  \n",
       "2  Our government do not care about what the mass...  \n",
       "3  There is discrepancy in Nigeria's governance. ...  \n",
       "4  It is a corrupt one lead by inconsiderate fell...  "
      ]
     },
     "execution_count": 16,
     "metadata": {},
     "output_type": "execute_result"
    }
   ],
   "source": [
    "Data.head()"
   ]
  },
  {
   "cell_type": "markdown",
   "metadata": {},
   "source": [
    "Let's proceed into inquiring the earnings of most Nigerians in a month."
   ]
  },
  {
   "cell_type": "code",
   "execution_count": 17,
   "metadata": {},
   "outputs": [
    {
     "data": {
      "text/plain": [
       "21,000 – 50,000      82\n",
       "110,000 – 200,000    37\n",
       "81,000 – 100,000     35\n",
       "51,000 – 80,000      33\n",
       "Below 5000           29\n",
       "11,000 – 20,000      29\n",
       "201,000 – 300,000    23\n",
       "5000 – 10,000        18\n",
       "301,000 – 500,000     9\n",
       "500,000 – above       8\n",
       "Name: Monthly Primary Income, dtype: int64"
      ]
     },
     "execution_count": 17,
     "metadata": {},
     "output_type": "execute_result"
    }
   ],
   "source": [
    "MPI = Data['Monthly Primary Income'].value_counts()\n",
    "MPI"
   ]
  },
  {
   "cell_type": "code",
   "execution_count": 18,
   "metadata": {},
   "outputs": [
    {
     "data": {
      "image/png": "[encoded data removed]",
      "text/plain": [
       "<Figure size 432x288 with 1 Axes>"
      ]
     },
     "metadata": {
      "needs_background": "light"
     },
     "output_type": "display_data"
    }
   ],
   "source": [
    "%matplotlib inline\n",
    "import matplotlib.pyplot as plt\n",
    "MPI.plot(kind='bar')\n",
    "\n",
    "plt.title('Monthly Primary Income')\n",
    "plt.ylabel('Count')\n",
    "plt.xlabel('Income Range')\n",
    "\n",
    "plt.show()"
   ]
  },
  {
   "cell_type": "markdown",
   "metadata": {},
   "source": [
    "<li> Figure 1"
   ]
  },
  {
   "cell_type": "markdown",
   "metadata": {},
   "source": [
    "Figure 1 tells us that more people income fall in the range of N21,000 - N50,000 at the end of every month."
   ]
  },
  {
   "cell_type": "code",
   "execution_count": 19,
   "metadata": {},
   "outputs": [
    {
     "data": {
      "text/html": [
       "<div>\n",
       "<style scoped>\n",
       "    .dataframe tbody tr th:only-of-type {\n",
       "        vertical-align: middle;\n",
       "    }\n",
       "\n",
       "    .dataframe tbody tr th {\n",
       "        vertical-align: top;\n",
       "    }\n",
       "\n",
       "    .dataframe thead th {\n",
       "        text-align: right;\n",
       "    }\n",
       "</style>\n",
       "<table border=\"1\" class=\"dataframe\">\n",
       "  <thead>\n",
       "    <tr style=\"text-align: right;\">\n",
       "      <th></th>\n",
       "      <th>Cumulative Secondary Income</th>\n",
       "      <th>Monthly Expenditure</th>\n",
       "    </tr>\n",
       "    <tr>\n",
       "      <th>Monthly Primary Income</th>\n",
       "      <th></th>\n",
       "      <th></th>\n",
       "    </tr>\n",
       "  </thead>\n",
       "  <tbody>\n",
       "    <tr>\n",
       "      <th>11,000 – 20,000</th>\n",
       "      <td>2.017276e+04</td>\n",
       "      <td>2.327638e+04</td>\n",
       "    </tr>\n",
       "    <tr>\n",
       "      <th>110,000 – 200,000</th>\n",
       "      <td>4.812568e+04</td>\n",
       "      <td>9.135514e+04</td>\n",
       "    </tr>\n",
       "    <tr>\n",
       "      <th>201,000 – 300,000</th>\n",
       "      <td>1.223913e+05</td>\n",
       "      <td>1.291305e+05</td>\n",
       "    </tr>\n",
       "    <tr>\n",
       "      <th>21,000 – 50,000</th>\n",
       "      <td>1.219827e+08</td>\n",
       "      <td>3.299451e+04</td>\n",
       "    </tr>\n",
       "    <tr>\n",
       "      <th>301,000 – 500,000</th>\n",
       "      <td>1.333333e+05</td>\n",
       "      <td>1.466833e+05</td>\n",
       "    </tr>\n",
       "    <tr>\n",
       "      <th>500,000 – above</th>\n",
       "      <td>1.250315e+09</td>\n",
       "      <td>6.250262e+09</td>\n",
       "    </tr>\n",
       "    <tr>\n",
       "      <th>5000 – 10,000</th>\n",
       "      <td>1.702778e+04</td>\n",
       "      <td>1.872333e+04</td>\n",
       "    </tr>\n",
       "    <tr>\n",
       "      <th>51,000 – 80,000</th>\n",
       "      <td>6.474455e+04</td>\n",
       "      <td>5.682303e+04</td>\n",
       "    </tr>\n",
       "    <tr>\n",
       "      <th>81,000 – 100,000</th>\n",
       "      <td>3.485946e+04</td>\n",
       "      <td>7.500374e+04</td>\n",
       "    </tr>\n",
       "    <tr>\n",
       "      <th>Below 5000</th>\n",
       "      <td>1.408621e+04</td>\n",
       "      <td>2.444921e+04</td>\n",
       "    </tr>\n",
       "  </tbody>\n",
       "</table>\n",
       "</div>"
      ],
      "text/plain": [
       "                        Cumulative Secondary Income  Monthly Expenditure\n",
       "Monthly Primary Income                                                  \n",
       "11,000 – 20,000                        2.017276e+04         2.327638e+04\n",
       "110,000 – 200,000                      4.812568e+04         9.135514e+04\n",
       "201,000 – 300,000                      1.223913e+05         1.291305e+05\n",
       "21,000 – 50,000                        1.219827e+08         3.299451e+04\n",
       "301,000 – 500,000                      1.333333e+05         1.466833e+05\n",
       "500,000 – above                        1.250315e+09         6.250262e+09\n",
       "5000 – 10,000                          1.702778e+04         1.872333e+04\n",
       "51,000 – 80,000                        6.474455e+04         5.682303e+04\n",
       "81,000 – 100,000                       3.485946e+04         7.500374e+04\n",
       "Below 5000                             1.408621e+04         2.444921e+04"
      ]
     },
     "execution_count": 19,
     "metadata": {},
     "output_type": "execute_result"
    }
   ],
   "source": [
    "df = Data.groupby('Monthly Primary Income').mean()\n",
    "df"
   ]
  },
  {
   "cell_type": "markdown",
   "metadata": {},
   "source": [
    "<li> Table 1"
   ]
  },
  {
   "cell_type": "markdown",
   "metadata": {},
   "source": [
    "It is not a new thing that the higher the income, higher the expenditure. The table above simply explains that one's standard of living is directly proportional to the income."
   ]
  },
  {
   "cell_type": "code",
   "execution_count": 20,
   "metadata": {},
   "outputs": [
    {
     "data": {
      "text/plain": [
       "dict_keys(['11,000 – 20,000', '110,000 – 200,000', '201,000 – 300,000', '21,000 – 50,000', '301,000 – 500,000', '500,000 – above', '5000 – 10,000', '51,000 – 80,000', '81,000 – 100,000', 'Below 5000'])"
      ]
     },
     "execution_count": 20,
     "metadata": {},
     "output_type": "execute_result"
    }
   ],
   "source": [
    "Data.groupby(['Monthly Primary Income']).groups.keys()"
   ]
  },
  {
   "cell_type": "markdown",
   "metadata": {},
   "source": [
    "We will calculate the mean of the ranges in the **'Monthly Primary Income'**. With the mean, we can easily sum it to their **'Cumulative Secondary income'** on the same row so as to know the **'Total Monthly Income'** for each data sample. "
   ]
  },
  {
   "cell_type": "code",
   "execution_count": 21,
   "metadata": {},
   "outputs": [],
   "source": [
    "#Replacing the column with their individual corresponding mean values\n",
    "\n",
    "Data['Monthly Primary Income']= Data['Monthly Primary Income'].replace('Below 5000', 2500)\n",
    "Data['Monthly Primary Income']= Data['Monthly Primary Income'].replace('11,000 – 20,000', 15500)\n",
    "Data['Monthly Primary Income']= Data['Monthly Primary Income'].replace('110,000 – 200,000', 155000)\n",
    "Data['Monthly Primary Income']= Data['Monthly Primary Income'].replace('201,000 – 300,000', 250500)\n",
    "Data['Monthly Primary Income']= Data['Monthly Primary Income'].replace('21,000 – 50,000', 35500)\n",
    "Data['Monthly Primary Income']= Data['Monthly Primary Income'].replace('301,000 – 500,000',400500)\n",
    "Data['Monthly Primary Income']= Data['Monthly Primary Income'].replace('500,000 – above', 750000)\n",
    "Data['Monthly Primary Income']= Data['Monthly Primary Income'].replace('5000 – 10,000', 7500)\n",
    "Data['Monthly Primary Income']= Data['Monthly Primary Income'].replace('51,000 – 80,000',65500)\n",
    "Data['Monthly Primary Income']= Data['Monthly Primary Income'].replace('81,000 – 100,000',90500)\n",
    "                                                                   \n",
    "                                                                  "
   ]
  },
  {
   "cell_type": "code",
   "execution_count": 22,
   "metadata": {},
   "outputs": [],
   "source": [
    "#Creating a new column: Total Monthly Income\n",
    "\n",
    "Data['Total Monthly Income']= Data['Monthly Primary Income'] + Data['Cumulative Secondary Income']"
   ]
  },
  {
   "cell_type": "code",
   "execution_count": 23,
   "metadata": {},
   "outputs": [],
   "source": [
    "#Creating a new column: Net Income\n",
    "\n",
    "Data['Net Income']= Data['Total Monthly Income'] - Data['Monthly Expenditure']"
   ]
  },
  {
   "cell_type": "markdown",
   "metadata": {},
   "source": [
    "We will be using categorical variables for columns with unique values. **No = 0**, **Yes = 1**. This is to aid a proper analysis."
   ]
  },
  {
   "cell_type": "code",
   "execution_count": 24,
   "metadata": {},
   "outputs": [],
   "source": [
    "Data['Married']= Data['Married'].replace('No', 0)\n",
    "Data['Married']= Data['Married'].replace('Yes', 1)"
   ]
  },
  {
   "cell_type": "code",
   "execution_count": 25,
   "metadata": {},
   "outputs": [],
   "source": [
    "Data['Parenting']= Data['Parenting'].replace('No', 0)\n",
    "Data['Parenting']= Data['Parenting'].replace('Yes', 1)"
   ]
  },
  {
   "cell_type": "code",
   "execution_count": 26,
   "metadata": {},
   "outputs": [],
   "source": [
    "Data['Job Satisfaction']= Data['Job Satisfaction'].replace('No', 0)\n",
    "Data['Job Satisfaction']= Data['Job Satisfaction'].replace('Yes', 1)"
   ]
  },
  {
   "cell_type": "code",
   "execution_count": 27,
   "metadata": {},
   "outputs": [],
   "source": [
    "Data['Job as primary income']= Data['Job as primary income'].replace('No', 0)\n",
    "Data['Job as primary income']= Data['Job as primary income'].replace('Yes', 1)"
   ]
  },
  {
   "cell_type": "code",
   "execution_count": 28,
   "metadata": {},
   "outputs": [],
   "source": [
    "Data['Income sufficiency']= Data['Income sufficiency'].replace('No', 0)\n",
    "Data['Income sufficiency']= Data['Income sufficiency'].replace('Yes', 1)"
   ]
  },
  {
   "cell_type": "code",
   "execution_count": 29,
   "metadata": {},
   "outputs": [],
   "source": [
    "Data['Tax Payment']= Data['Tax Payment'].replace('No', 0)\n",
    "Data['Tax Payment']= Data['Tax Payment'].replace('Yes', 1)"
   ]
  },
  {
   "cell_type": "code",
   "execution_count": 30,
   "metadata": {},
   "outputs": [],
   "source": [
    "Data['Is Nigeria Hopeful']= Data['Is Nigeria Hopeful'].replace('No', 0)\n",
    "Data['Is Nigeria Hopeful']= Data['Is Nigeria Hopeful'].replace('Yes', 1)"
   ]
  },
  {
   "cell_type": "code",
   "execution_count": 31,
   "metadata": {},
   "outputs": [],
   "source": [
    "cols= list(Data.columns.values)\n",
    "data = Data[cols[0:3] + cols[5:8] + [cols[12]] + cols[14:16] + [cols[19]] + cols[3:5] + cols[8:12] + [cols[13]]+ cols[16:19]+ cols[20:22]]"
   ]
  },
  {
   "cell_type": "code",
   "execution_count": 32,
   "metadata": {},
   "outputs": [
    {
     "data": {
      "text/html": [
       "<div>\n",
       "<style scoped>\n",
       "    .dataframe tbody tr th:only-of-type {\n",
       "        vertical-align: middle;\n",
       "    }\n",
       "\n",
       "    .dataframe tbody tr th {\n",
       "        vertical-align: top;\n",
       "    }\n",
       "\n",
       "    .dataframe thead th {\n",
       "        text-align: right;\n",
       "    }\n",
       "</style>\n",
       "<table border=\"1\" class=\"dataframe\">\n",
       "  <thead>\n",
       "    <tr style=\"text-align: right;\">\n",
       "      <th></th>\n",
       "      <th>Nigerian Citizen</th>\n",
       "      <th>Gender</th>\n",
       "      <th>Age Group</th>\n",
       "      <th>State of Residence</th>\n",
       "      <th>Area of Residence</th>\n",
       "      <th>Occupation</th>\n",
       "      <th>Secondary income</th>\n",
       "      <th>Major Monthly Expense</th>\n",
       "      <th>Aspiring Possession</th>\n",
       "      <th>Thought about the government</th>\n",
       "      <th>...</th>\n",
       "      <th>Job Satisfaction</th>\n",
       "      <th>Job as primary income</th>\n",
       "      <th>Monthly Primary Income</th>\n",
       "      <th>Income sufficiency</th>\n",
       "      <th>Tax Payment</th>\n",
       "      <th>Cumulative Secondary Income</th>\n",
       "      <th>Monthly Expenditure</th>\n",
       "      <th>Is Nigeria Hopeful</th>\n",
       "      <th>Total Monthly Income</th>\n",
       "      <th>Net Income</th>\n",
       "    </tr>\n",
       "  </thead>\n",
       "  <tbody>\n",
       "    <tr>\n",
       "      <th>0</th>\n",
       "      <td>Yes</td>\n",
       "      <td>Female</td>\n",
       "      <td>18 – 25</td>\n",
       "      <td>Lagos</td>\n",
       "      <td>Rural</td>\n",
       "      <td>No Job</td>\n",
       "      <td>None</td>\n",
       "      <td>Feeding</td>\n",
       "      <td>A Company</td>\n",
       "      <td>Frustrating</td>\n",
       "      <td>...</td>\n",
       "      <td>0</td>\n",
       "      <td>0</td>\n",
       "      <td>2500</td>\n",
       "      <td>0</td>\n",
       "      <td>0</td>\n",
       "      <td>0.0</td>\n",
       "      <td>25000</td>\n",
       "      <td>1</td>\n",
       "      <td>2500.0</td>\n",
       "      <td>-22500.0</td>\n",
       "    </tr>\n",
       "    <tr>\n",
       "      <th>1</th>\n",
       "      <td>Yes</td>\n",
       "      <td>Female</td>\n",
       "      <td>18 – 25</td>\n",
       "      <td>Lagos</td>\n",
       "      <td>Rural</td>\n",
       "      <td>No Job</td>\n",
       "      <td>Free Lancing</td>\n",
       "      <td>Transportation</td>\n",
       "      <td>A House</td>\n",
       "      <td>Greedy, self centered and dull</td>\n",
       "      <td>...</td>\n",
       "      <td>0</td>\n",
       "      <td>0</td>\n",
       "      <td>15500</td>\n",
       "      <td>0</td>\n",
       "      <td>0</td>\n",
       "      <td>18000.0</td>\n",
       "      <td>20000</td>\n",
       "      <td>1</td>\n",
       "      <td>33500.0</td>\n",
       "      <td>13500.0</td>\n",
       "    </tr>\n",
       "    <tr>\n",
       "      <th>2</th>\n",
       "      <td>Yes</td>\n",
       "      <td>Male</td>\n",
       "      <td>36 – 45</td>\n",
       "      <td>Lagos</td>\n",
       "      <td>City</td>\n",
       "      <td>Financial Services</td>\n",
       "      <td>Free Lancing</td>\n",
       "      <td>School Fees</td>\n",
       "      <td>A Company</td>\n",
       "      <td>Our government do not care about what the mass...</td>\n",
       "      <td>...</td>\n",
       "      <td>1</td>\n",
       "      <td>1</td>\n",
       "      <td>155000</td>\n",
       "      <td>0</td>\n",
       "      <td>1</td>\n",
       "      <td>40000.0</td>\n",
       "      <td>140000</td>\n",
       "      <td>1</td>\n",
       "      <td>195000.0</td>\n",
       "      <td>55000.0</td>\n",
       "    </tr>\n",
       "    <tr>\n",
       "      <th>3</th>\n",
       "      <td>Yes</td>\n",
       "      <td>Female</td>\n",
       "      <td>26 – 35</td>\n",
       "      <td>Lagos</td>\n",
       "      <td>City</td>\n",
       "      <td>Business</td>\n",
       "      <td>Buying and Selling</td>\n",
       "      <td>Transportation</td>\n",
       "      <td>Money</td>\n",
       "      <td>There is discrepancy in Nigeria's governance. ...</td>\n",
       "      <td>...</td>\n",
       "      <td>1</td>\n",
       "      <td>1</td>\n",
       "      <td>250500</td>\n",
       "      <td>0</td>\n",
       "      <td>1</td>\n",
       "      <td>500000.0</td>\n",
       "      <td>100000</td>\n",
       "      <td>1</td>\n",
       "      <td>750500.0</td>\n",
       "      <td>650500.0</td>\n",
       "    </tr>\n",
       "    <tr>\n",
       "      <th>4</th>\n",
       "      <td>Yes</td>\n",
       "      <td>Male</td>\n",
       "      <td>26 – 35</td>\n",
       "      <td>Lagos</td>\n",
       "      <td>Rural</td>\n",
       "      <td>Engineering</td>\n",
       "      <td>Formal Job</td>\n",
       "      <td>Transportation</td>\n",
       "      <td>A Company</td>\n",
       "      <td>It is a corrupt one lead by inconsiderate fell...</td>\n",
       "      <td>...</td>\n",
       "      <td>1</td>\n",
       "      <td>1</td>\n",
       "      <td>155000</td>\n",
       "      <td>1</td>\n",
       "      <td>1</td>\n",
       "      <td>0.0</td>\n",
       "      <td>60000</td>\n",
       "      <td>1</td>\n",
       "      <td>155000.0</td>\n",
       "      <td>95000.0</td>\n",
       "    </tr>\n",
       "  </tbody>\n",
       "</table>\n",
       "<p>5 rows × 22 columns</p>\n",
       "</div>"
      ],
      "text/plain": [
       "  Nigerian Citizen  Gender Age Group State of Residence Area of Residence  \\\n",
       "0              Yes  Female   18 – 25              Lagos             Rural   \n",
       "1              Yes  Female   18 – 25              Lagos             Rural   \n",
       "2              Yes    Male   36 – 45              Lagos              City   \n",
       "3              Yes  Female   26 – 35              Lagos              City   \n",
       "4              Yes    Male   26 – 35              Lagos             Rural   \n",
       "\n",
       "           Occupation    Secondary income Major Monthly Expense  \\\n",
       "0              No Job                None               Feeding   \n",
       "1              No Job        Free Lancing        Transportation   \n",
       "2  Financial Services        Free Lancing           School Fees   \n",
       "3            Business  Buying and Selling        Transportation   \n",
       "4         Engineering          Formal Job        Transportation   \n",
       "\n",
       "  Aspiring Possession                       Thought about the government  ...  \\\n",
       "0           A Company                                        Frustrating  ...   \n",
       "1             A House                     Greedy, self centered and dull  ...   \n",
       "2           A Company  Our government do not care about what the mass...  ...   \n",
       "3               Money  There is discrepancy in Nigeria's governance. ...  ...   \n",
       "4           A Company  It is a corrupt one lead by inconsiderate fell...  ...   \n",
       "\n",
       "   Job Satisfaction  Job as primary income  Monthly Primary Income  \\\n",
       "0                 0                      0                    2500   \n",
       "1                 0                      0                   15500   \n",
       "2                 1                      1                  155000   \n",
       "3                 1                      1                  250500   \n",
       "4                 1                      1                  155000   \n",
       "\n",
       "   Income sufficiency  Tax Payment  Cumulative Secondary Income  \\\n",
       "0                   0            0                          0.0   \n",
       "1                   0            0                      18000.0   \n",
       "2                   0            1                      40000.0   \n",
       "3                   0            1                     500000.0   \n",
       "4                   1            1                          0.0   \n",
       "\n",
       "   Monthly Expenditure  Is Nigeria Hopeful  Total Monthly Income  Net Income  \n",
       "0                25000                   1                2500.0    -22500.0  \n",
       "1                20000                   1               33500.0     13500.0  \n",
       "2               140000                   1              195000.0     55000.0  \n",
       "3               100000                   1              750500.0    650500.0  \n",
       "4                60000                   1              155000.0     95000.0  \n",
       "\n",
       "[5 rows x 22 columns]"
      ]
     },
     "execution_count": 32,
     "metadata": {},
     "output_type": "execute_result"
    }
   ],
   "source": [
    "data.head()"
   ]
  },
  {
   "cell_type": "code",
   "execution_count": 33,
   "metadata": {},
   "outputs": [
    {
     "name": "stdout",
     "output_type": "stream",
     "text": [
      "<class 'pandas.core.frame.DataFrame'>\n",
      "RangeIndex: 303 entries, 0 to 302\n",
      "Data columns (total 22 columns):\n",
      "Nigerian Citizen                303 non-null object\n",
      "Gender                          303 non-null object\n",
      "Age Group                       303 non-null object\n",
      "State of Residence              303 non-null object\n",
      "Area of Residence               303 non-null object\n",
      "Occupation                      303 non-null object\n",
      "Secondary income                303 non-null object\n",
      "Major Monthly Expense           303 non-null object\n",
      "Aspiring Possession             303 non-null object\n",
      "Thought about the government    303 non-null object\n",
      "Married                         303 non-null int64\n",
      "Parenting                       303 non-null int64\n",
      "Job Satisfaction                303 non-null int64\n",
      "Job as primary income           303 non-null int64\n",
      "Monthly Primary Income          303 non-null int64\n",
      "Income sufficiency              303 non-null int64\n",
      "Tax Payment                     303 non-null int64\n",
      "Cumulative Secondary Income     303 non-null float64\n",
      "Monthly Expenditure             303 non-null int64\n",
      "Is Nigeria Hopeful              303 non-null int64\n",
      "Total Monthly Income            303 non-null float64\n",
      "Net Income                      303 non-null float64\n",
      "dtypes: float64(3), int64(9), object(10)\n",
      "memory usage: 52.2+ KB\n"
     ]
    }
   ],
   "source": [
    "data.info()"
   ]
  },
  {
   "cell_type": "code",
   "execution_count": 34,
   "metadata": {},
   "outputs": [
    {
     "data": {
      "text/plain": [
       " 15500.0     18\n",
       " 25500.0     15\n",
       " 40500.0     12\n",
       "-4500.0      11\n",
       " 5500.0      10\n",
       " 500.0        9\n",
       " 10500.0      7\n",
       " 35500.0      7\n",
       " 20500.0      7\n",
       "-2500.0       6\n",
       " 30500.0      6\n",
       " 400500.0     5\n",
       " 105000.0     5\n",
       " 7500.0       5\n",
       "-12500.0      5\n",
       "-17500.0      4\n",
       " 2500.0       4\n",
       " 45500.0      4\n",
       " 95000.0      4\n",
       " 50500.0      4\n",
       " 55000.0      3\n",
       " 65500.0      3\n",
       " 105500.0     3\n",
       " 100500.0     3\n",
       " 55500.0      3\n",
       "-27500.0      3\n",
       "-7500.0       3\n",
       " 90500.0      3\n",
       "-34500.0      3\n",
       "-9500.0       3\n",
       "             ..\n",
       " 385500.0     1\n",
       " 53500.0      1\n",
       " 700350.0     1\n",
       " 28500.0      1\n",
       " 17500.0      1\n",
       " 60500.0      1\n",
       " 165500.0     1\n",
       " 120500.0     1\n",
       " 22498.0      1\n",
       " 220500.0     1\n",
       "-1500.0       1\n",
       " 195500.0     1\n",
       " 105450.0     1\n",
       "-97500.0      1\n",
       " 133650.0     1\n",
       " 35470.0      1\n",
       " 173500.0     1\n",
       " 15495.0      1\n",
       " 185000.0     1\n",
       "-3000.0       1\n",
       " 950000.0     1\n",
       " 650500.0     1\n",
       " 35505.0      1\n",
       " 80500.0      1\n",
       " 102500.0     1\n",
       " 450500.0     1\n",
       " 18000.0      1\n",
       " 65450.0      1\n",
       " 75500.0      1\n",
       "-3500.0       1\n",
       "Name: Net Income, Length: 130, dtype: int64"
      ]
     },
     "execution_count": 34,
     "metadata": {},
     "output_type": "execute_result"
    }
   ],
   "source": [
    "data['Net Income'].value_counts()"
   ]
  },
  {
   "cell_type": "code",
   "execution_count": 35,
   "metadata": {
    "scrolled": true
   },
   "outputs": [
    {
     "data": {
      "image/png": "[encoded data removed]",
      "text/plain": [
       "<Figure size 432x288 with 1 Axes>"
      ]
     },
     "metadata": {
      "needs_background": "light"
     },
     "output_type": "display_data"
    }
   ],
   "source": [
    "Data['Net Income'].value_counts().plot(kind = \"bar\")\n",
    "plt.xticks(rotation = 35 )\n",
    "\n",
    "plt.show()"
   ]
  },
  {
   "cell_type": "markdown",
   "metadata": {},
   "source": [
    "<li>Figure 2"
   ]
  },
  {
   "cell_type": "code",
   "execution_count": 36,
   "metadata": {},
   "outputs": [
    {
     "data": {
      "image/png": "[encoded data removed]",
      "text/plain": [
       "<Figure size 432x288 with 1 Axes>"
      ]
     },
     "metadata": {
      "needs_background": "light"
     },
     "output_type": "display_data"
    }
   ],
   "source": [
    "Data['Total Monthly Income'].value_counts().plot(kind = \"bar\")\n",
    "\n",
    "plt.show()"
   ]
  },
  {
   "cell_type": "markdown",
   "metadata": {},
   "source": [
    "<li> Figure 3"
   ]
  },
  {
   "cell_type": "code",
   "execution_count": 37,
   "metadata": {},
   "outputs": [
    {
     "data": {
      "text/plain": [
       "<matplotlib.axes._subplots.AxesSubplot at 0x23fe387a978>"
      ]
     },
     "execution_count": 37,
     "metadata": {},
     "output_type": "execute_result"
    },
    {
     "data": {
      "image/png": "[encoded data removed]",
      "text/plain": [
       "<Figure size 432x288 with 1 Axes>"
      ]
     },
     "metadata": {
      "needs_background": "light"
     },
     "output_type": "display_data"
    }
   ],
   "source": [
    "Data['Monthly Expenditure'].value_counts().plot(kind = \"bar\")"
   ]
  },
  {
   "cell_type": "markdown",
   "metadata": {},
   "source": [
    "<li> Figure 4"
   ]
  },
  {
   "cell_type": "markdown",
   "metadata": {},
   "source": [
    "In as much as these graphs in Figure 2 - Figure 4, are not looking so good, we can still pick a similar pattern between the three. This will prompt us to check properly what type of correlation exists between Total Income and Monthly Expenditure of individuals. "
   ]
  },
  {
   "cell_type": "code",
   "execution_count": 38,
   "metadata": {},
   "outputs": [],
   "source": [
    "import matplotlib.pyplot as plt\n",
    "import seaborn as sns\n",
    "%matplotlib inline"
   ]
  },
  {
   "cell_type": "code",
   "execution_count": 39,
   "metadata": {},
   "outputs": [
    {
     "data": {
      "text/plain": [
       "(0, 55250467087.3737)"
      ]
     },
     "execution_count": 39,
     "metadata": {},
     "output_type": "execute_result"
    },
    {
     "data": {
      "image/png": "[encoded data removed]",
      "text/plain": [
       "<Figure size 432x288 with 1 Axes>"
      ]
     },
     "metadata": {
      "needs_background": "light"
     },
     "output_type": "display_data"
    }
   ],
   "source": [
    "sns.regplot(x= 'Total Monthly Income', y= 'Monthly Expenditure', data=data)\n",
    "plt.ylim(0,)"
   ]
  },
  {
   "cell_type": "markdown",
   "metadata": {},
   "source": [
    "<li> Figure 5 </li>"
   ]
  },
  {
   "cell_type": "code",
   "execution_count": 40,
   "metadata": {},
   "outputs": [
    {
     "name": "stdout",
     "output_type": "stream",
     "text": [
      "Pearsons Correlation: 0.706\n"
     ]
    }
   ],
   "source": [
    "# Using Pearson Correlation to know if there is an actual relationship between income and expenses.\n",
    "from scipy.stats import pearsonr\n",
    "\n",
    "corr,_= pearsonr(data['Total Monthly Income'], data['Monthly Expenditure'])\n",
    "print('Pearsons Correlation: %.3f' %corr)"
   ]
  },
  {
   "cell_type": "markdown",
   "metadata": {},
   "source": [
    "We can see that the two variables are positively correlated and that the correlation is 0.7. This suggests a high level of relationship between **Total Monthly Income** and the corresponding **Monthly Expenditure**. That is, the higher the income, the higher the expenditure."
   ]
  },
  {
   "cell_type": "markdown",
   "metadata": {},
   "source": [
    "So then let's proceed to classfying the Net Income into Very Low, Low, Medium, High and Very High income earners. There is also another class called Outlier - This represents an extremely high Net Income."
   ]
  },
  {
   "cell_type": "code",
   "execution_count": 41,
   "metadata": {},
   "outputs": [],
   "source": [
    "data[['Net Income']]= data[['Net Income']].astype('int')"
   ]
  },
  {
   "cell_type": "code",
   "execution_count": 42,
   "metadata": {},
   "outputs": [
    {
     "data": {
      "text/plain": [
       "count    3.030000e+02\n",
       "mean    -1.408863e+07\n",
       "std      1.741891e+08\n",
       "min     -2.147484e+09\n",
       "25%      5.250000e+03\n",
       "50%      3.050000e+04\n",
       "75%      1.005000e+05\n",
       "max      1.250000e+06\n",
       "Name: Net Income, dtype: float64"
      ]
     },
     "execution_count": 42,
     "metadata": {},
     "output_type": "execute_result"
    }
   ],
   "source": [
    "data['Net Income'].describe()"
   ]
  },
  {
   "cell_type": "code",
   "execution_count": 43,
   "metadata": {},
   "outputs": [],
   "source": [
    "# Creating Income ranges for the Net Income.\n",
    "data['Net Income Class'] = ['Very Low' if -2.147484e+09<net_income<10000\n",
    "                        else 'Low' if 10000<net_income<50000\n",
    "                      else 'Medium' if 50000<net_income<150000\n",
    "                      else 'High' if 150000<net_income<300000\n",
    "                      else 'Very High' if 300000<net_income<1000000\n",
    "                      else 'Outlier' \\\n",
    "                      for net_income in list(data['Net Income'].values)\n",
    "                           ]"
   ]
  },
  {
   "cell_type": "code",
   "execution_count": 44,
   "metadata": {},
   "outputs": [
    {
     "data": {
      "text/html": [
       "<div>\n",
       "<style scoped>\n",
       "    .dataframe tbody tr th:only-of-type {\n",
       "        vertical-align: middle;\n",
       "    }\n",
       "\n",
       "    .dataframe tbody tr th {\n",
       "        vertical-align: top;\n",
       "    }\n",
       "\n",
       "    .dataframe thead th {\n",
       "        text-align: right;\n",
       "    }\n",
       "</style>\n",
       "<table border=\"1\" class=\"dataframe\">\n",
       "  <thead>\n",
       "    <tr style=\"text-align: right;\">\n",
       "      <th></th>\n",
       "      <th>Nigerian Citizen</th>\n",
       "      <th>Gender</th>\n",
       "      <th>Age Group</th>\n",
       "      <th>State of Residence</th>\n",
       "      <th>Area of Residence</th>\n",
       "      <th>Occupation</th>\n",
       "      <th>Secondary income</th>\n",
       "      <th>Major Monthly Expense</th>\n",
       "      <th>Aspiring Possession</th>\n",
       "      <th>Thought about the government</th>\n",
       "      <th>...</th>\n",
       "      <th>Job as primary income</th>\n",
       "      <th>Monthly Primary Income</th>\n",
       "      <th>Income sufficiency</th>\n",
       "      <th>Tax Payment</th>\n",
       "      <th>Cumulative Secondary Income</th>\n",
       "      <th>Monthly Expenditure</th>\n",
       "      <th>Is Nigeria Hopeful</th>\n",
       "      <th>Total Monthly Income</th>\n",
       "      <th>Net Income</th>\n",
       "      <th>Net Income Class</th>\n",
       "    </tr>\n",
       "  </thead>\n",
       "  <tbody>\n",
       "    <tr>\n",
       "      <th>0</th>\n",
       "      <td>Yes</td>\n",
       "      <td>Female</td>\n",
       "      <td>18 – 25</td>\n",
       "      <td>Lagos</td>\n",
       "      <td>Rural</td>\n",
       "      <td>No Job</td>\n",
       "      <td>None</td>\n",
       "      <td>Feeding</td>\n",
       "      <td>A Company</td>\n",
       "      <td>Frustrating</td>\n",
       "      <td>...</td>\n",
       "      <td>0</td>\n",
       "      <td>2500</td>\n",
       "      <td>0</td>\n",
       "      <td>0</td>\n",
       "      <td>0.0</td>\n",
       "      <td>25000</td>\n",
       "      <td>1</td>\n",
       "      <td>2500.0</td>\n",
       "      <td>-22500</td>\n",
       "      <td>Very Low</td>\n",
       "    </tr>\n",
       "    <tr>\n",
       "      <th>1</th>\n",
       "      <td>Yes</td>\n",
       "      <td>Female</td>\n",
       "      <td>18 – 25</td>\n",
       "      <td>Lagos</td>\n",
       "      <td>Rural</td>\n",
       "      <td>No Job</td>\n",
       "      <td>Free Lancing</td>\n",
       "      <td>Transportation</td>\n",
       "      <td>A House</td>\n",
       "      <td>Greedy, self centered and dull</td>\n",
       "      <td>...</td>\n",
       "      <td>0</td>\n",
       "      <td>15500</td>\n",
       "      <td>0</td>\n",
       "      <td>0</td>\n",
       "      <td>18000.0</td>\n",
       "      <td>20000</td>\n",
       "      <td>1</td>\n",
       "      <td>33500.0</td>\n",
       "      <td>13500</td>\n",
       "      <td>Low</td>\n",
       "    </tr>\n",
       "    <tr>\n",
       "      <th>2</th>\n",
       "      <td>Yes</td>\n",
       "      <td>Male</td>\n",
       "      <td>36 – 45</td>\n",
       "      <td>Lagos</td>\n",
       "      <td>City</td>\n",
       "      <td>Financial Services</td>\n",
       "      <td>Free Lancing</td>\n",
       "      <td>School Fees</td>\n",
       "      <td>A Company</td>\n",
       "      <td>Our government do not care about what the mass...</td>\n",
       "      <td>...</td>\n",
       "      <td>1</td>\n",
       "      <td>155000</td>\n",
       "      <td>0</td>\n",
       "      <td>1</td>\n",
       "      <td>40000.0</td>\n",
       "      <td>140000</td>\n",
       "      <td>1</td>\n",
       "      <td>195000.0</td>\n",
       "      <td>55000</td>\n",
       "      <td>Medium</td>\n",
       "    </tr>\n",
       "    <tr>\n",
       "      <th>3</th>\n",
       "      <td>Yes</td>\n",
       "      <td>Female</td>\n",
       "      <td>26 – 35</td>\n",
       "      <td>Lagos</td>\n",
       "      <td>City</td>\n",
       "      <td>Business</td>\n",
       "      <td>Buying and Selling</td>\n",
       "      <td>Transportation</td>\n",
       "      <td>Money</td>\n",
       "      <td>There is discrepancy in Nigeria's governance. ...</td>\n",
       "      <td>...</td>\n",
       "      <td>1</td>\n",
       "      <td>250500</td>\n",
       "      <td>0</td>\n",
       "      <td>1</td>\n",
       "      <td>500000.0</td>\n",
       "      <td>100000</td>\n",
       "      <td>1</td>\n",
       "      <td>750500.0</td>\n",
       "      <td>650500</td>\n",
       "      <td>Very High</td>\n",
       "    </tr>\n",
       "  </tbody>\n",
       "</table>\n",
       "<p>4 rows × 23 columns</p>\n",
       "</div>"
      ],
      "text/plain": [
       "  Nigerian Citizen  Gender Age Group State of Residence Area of Residence  \\\n",
       "0              Yes  Female   18 – 25              Lagos             Rural   \n",
       "1              Yes  Female   18 – 25              Lagos             Rural   \n",
       "2              Yes    Male   36 – 45              Lagos              City   \n",
       "3              Yes  Female   26 – 35              Lagos              City   \n",
       "\n",
       "           Occupation    Secondary income Major Monthly Expense  \\\n",
       "0              No Job                None               Feeding   \n",
       "1              No Job        Free Lancing        Transportation   \n",
       "2  Financial Services        Free Lancing           School Fees   \n",
       "3            Business  Buying and Selling        Transportation   \n",
       "\n",
       "  Aspiring Possession                       Thought about the government  ...  \\\n",
       "0           A Company                                        Frustrating  ...   \n",
       "1             A House                     Greedy, self centered and dull  ...   \n",
       "2           A Company  Our government do not care about what the mass...  ...   \n",
       "3               Money  There is discrepancy in Nigeria's governance. ...  ...   \n",
       "\n",
       "   Job as primary income  Monthly Primary Income  Income sufficiency  \\\n",
       "0                      0                    2500                   0   \n",
       "1                      0                   15500                   0   \n",
       "2                      1                  155000                   0   \n",
       "3                      1                  250500                   0   \n",
       "\n",
       "   Tax Payment  Cumulative Secondary Income  Monthly Expenditure  \\\n",
       "0            0                          0.0                25000   \n",
       "1            0                      18000.0                20000   \n",
       "2            1                      40000.0               140000   \n",
       "3            1                     500000.0               100000   \n",
       "\n",
       "   Is Nigeria Hopeful  Total Monthly Income  Net Income  Net Income Class  \n",
       "0                   1                2500.0      -22500          Very Low  \n",
       "1                   1               33500.0       13500               Low  \n",
       "2                   1              195000.0       55000            Medium  \n",
       "3                   1              750500.0      650500         Very High  \n",
       "\n",
       "[4 rows x 23 columns]"
      ]
     },
     "execution_count": 44,
     "metadata": {},
     "output_type": "execute_result"
    }
   ],
   "source": [
    "data.head(4)"
   ]
  },
  {
   "cell_type": "code",
   "execution_count": 45,
   "metadata": {},
   "outputs": [],
   "source": [
    "NetIncomeClass = data['Net Income Class'].value_counts()"
   ]
  },
  {
   "cell_type": "code",
   "execution_count": 46,
   "metadata": {},
   "outputs": [
    {
     "data": {
      "image/png": "[encoded data removed]",
      "text/plain": [
       "<Figure size 1440x360 with 1 Axes>"
      ]
     },
     "metadata": {
      "needs_background": "light"
     },
     "output_type": "display_data"
    }
   ],
   "source": [
    "plt.rcParams['figure.figsize']=(20,5)\n",
    "sns.countplot(data['Net Income Class'], palette = 'plasma_r')\n",
    "plt.title('Nigeria Net Income Class', fontsize = 20)\n",
    "plt.show()"
   ]
  },
  {
   "cell_type": "markdown",
   "metadata": {},
   "source": [
    "<li> Figure 6 </li>"
   ]
  },
  {
   "cell_type": "code",
   "execution_count": 47,
   "metadata": {},
   "outputs": [
    {
     "data": {
      "text/plain": [
       "Low          95\n",
       "Very Low     92\n",
       "Medium       65\n",
       "High         27\n",
       "Very High    21\n",
       "Outlier       3\n",
       "Name: Net Income Class, dtype: int64"
      ]
     },
     "execution_count": 47,
     "metadata": {},
     "output_type": "execute_result"
    }
   ],
   "source": [
    "NetIncomeClass"
   ]
  },
  {
   "cell_type": "markdown",
   "metadata": {},
   "source": [
    "From the analysis on Net income visualized above, we can see that on the average, people earn between -N21500 and N50,000. As 92 individuals earn Very Low and 95 earn Low. Making a total of 187, distributing just 116 people across the rest of the Net Income Class."
   ]
  },
  {
   "cell_type": "markdown",
   "metadata": {},
   "source": [
    "Let's observe graphically how the age groups are related to the net incomes."
   ]
  },
  {
   "cell_type": "code",
   "execution_count": 51,
   "metadata": {},
   "outputs": [
    {
     "data": {
      "text/plain": [
       "Text(0, 0.5, 'Net Income class')"
      ]
     },
     "execution_count": 51,
     "metadata": {},
     "output_type": "execute_result"
    },
    {
     "data": {
      "image/png": "[encoded data removed]",
      "text/plain": [
       "<Figure size 1440x360 with 1 Axes>"
      ]
     },
     "metadata": {
      "needs_background": "light"
     },
     "output_type": "display_data"
    }
   ],
   "source": [
    "# create a figure and axis\n",
    "fig, ax = plt.subplots()\n",
    "\n",
    "# scatter the Income class against the age groups\n",
    "ax.scatter(data['Age Group'], data['Net Income Class'])\n",
    "# set a title and labels\n",
    "ax.set_title('Income Relative to Age Groups')\n",
    "ax.set_xlabel('Age group')\n",
    "ax.set_ylabel('Net Income class')"
   ]
  },
  {
   "cell_type": "markdown",
   "metadata": {},
   "source": [
    "<li>Figure 7"
   ]
  },
  {
   "cell_type": "markdown",
   "metadata": {},
   "source": [
    "We decided to find out what most Nigerians spend their income on:"
   ]
  },
  {
   "cell_type": "code",
   "execution_count": 48,
   "metadata": {},
   "outputs": [
    {
     "data": {
      "text/plain": [
       "Feeding                 102\n",
       "Transportation           82\n",
       "Rent                     63\n",
       "School Fees              23\n",
       "Airtime and Data         20\n",
       "Clothing and Jewelry      9\n",
       "Tax                       2\n",
       "Medical Bills             1\n",
       "Bribery                   1\n",
       "Name: Major Monthly Expense, dtype: int64"
      ]
     },
     "execution_count": 48,
     "metadata": {},
     "output_type": "execute_result"
    }
   ],
   "source": [
    "Data['Major Monthly Expense'].value_counts()"
   ]
  },
  {
   "cell_type": "code",
   "execution_count": 49,
   "metadata": {},
   "outputs": [],
   "source": [
    "import seaborn as sns"
   ]
  },
  {
   "cell_type": "code",
   "execution_count": 50,
   "metadata": {},
   "outputs": [
    {
     "data": {
      "image/png": "[encoded data removed]",
      "text/plain": [
       "<Figure size 1440x360 with 1 Axes>"
      ]
     },
     "metadata": {
      "needs_background": "light"
     },
     "output_type": "display_data"
    }
   ],
   "source": [
    "%matplotlib inline\n",
    "import matplotlib.pyplot as plt\n",
    "\n",
    "plt.rcParams['figure.figsize'] = (20, 5)\n",
    "sns.countplot(Data['Major Monthly Expense'], palette = 'Accent')\n",
    "plt.title('Monthly Consumption', fontsize = 20)\n",
    "plt.show()"
   ]
  },
  {
   "cell_type": "markdown",
   "metadata": {},
   "source": [
    "<li>Figure 8"
   ]
  },
  {
   "cell_type": "markdown",
   "metadata": {},
   "source": [
    "We can see that majority of the masses spend their monthly income on feeding. Taking a quick review on the cost of some major foods in Nigeria between 2016 to 2019. The dataset was sourced from the National Bureau of Statistics, Nigeria (http://nigeria.opendataforafrica.org/gjskat/selected-food-prices-watch-march-2019)."
   ]
  },
  {
   "cell_type": "code",
   "execution_count": 51,
   "metadata": {},
   "outputs": [],
   "source": [
    "Food_prices = pd.read_excel('FoodObservationData.xlsx')"
   ]
  },
  {
   "cell_type": "code",
   "execution_count": 52,
   "metadata": {},
   "outputs": [
    {
     "data": {
      "text/html": [
       "<div>\n",
       "<style scoped>\n",
       "    .dataframe tbody tr th:only-of-type {\n",
       "        vertical-align: middle;\n",
       "    }\n",
       "\n",
       "    .dataframe tbody tr th {\n",
       "        vertical-align: top;\n",
       "    }\n",
       "\n",
       "    .dataframe thead th {\n",
       "        text-align: right;\n",
       "    }\n",
       "</style>\n",
       "<table border=\"1\" class=\"dataframe\">\n",
       "  <thead>\n",
       "    <tr style=\"text-align: right;\">\n",
       "      <th></th>\n",
       "      <th>State</th>\n",
       "      <th>State Name</th>\n",
       "      <th>Item Name</th>\n",
       "      <th>Scale</th>\n",
       "      <th>Units</th>\n",
       "      <th>2016 March</th>\n",
       "      <th>2017 March</th>\n",
       "      <th>2018 March</th>\n",
       "      <th>2019 March</th>\n",
       "    </tr>\n",
       "  </thead>\n",
       "  <tbody>\n",
       "    <tr>\n",
       "      <th>0</th>\n",
       "      <td>NG</td>\n",
       "      <td>Nigeria</td>\n",
       "      <td>Rice local sold loose</td>\n",
       "      <td>units</td>\n",
       "      <td>1kg</td>\n",
       "      <td>200.429963</td>\n",
       "      <td>308.867810</td>\n",
       "      <td>283.567685</td>\n",
       "      <td>280.797321</td>\n",
       "    </tr>\n",
       "    <tr>\n",
       "      <th>1</th>\n",
       "      <td>NG</td>\n",
       "      <td>Nigeria</td>\n",
       "      <td>Onion bulb</td>\n",
       "      <td>units</td>\n",
       "      <td>1kg</td>\n",
       "      <td>190.804431</td>\n",
       "      <td>246.948910</td>\n",
       "      <td>235.306506</td>\n",
       "      <td>231.905619</td>\n",
       "    </tr>\n",
       "    <tr>\n",
       "      <th>2</th>\n",
       "      <td>NG</td>\n",
       "      <td>Nigeria</td>\n",
       "      <td>Gari yellow,sold loose</td>\n",
       "      <td>units</td>\n",
       "      <td>1kg</td>\n",
       "      <td>166.396493</td>\n",
       "      <td>302.047239</td>\n",
       "      <td>243.992510</td>\n",
       "      <td>184.182166</td>\n",
       "    </tr>\n",
       "    <tr>\n",
       "      <th>3</th>\n",
       "      <td>NG</td>\n",
       "      <td>Nigeria</td>\n",
       "      <td>Evaporated tinned milk(peak), 170g</td>\n",
       "      <td>units</td>\n",
       "      <td>1 unit</td>\n",
       "      <td>139.164720</td>\n",
       "      <td>177.054054</td>\n",
       "      <td>187.610212</td>\n",
       "      <td>188.229615</td>\n",
       "    </tr>\n",
       "    <tr>\n",
       "      <th>4</th>\n",
       "      <td>NG</td>\n",
       "      <td>Nigeria</td>\n",
       "      <td>Bread sliced 500g</td>\n",
       "      <td>units</td>\n",
       "      <td>1 loaf</td>\n",
       "      <td>259.291413</td>\n",
       "      <td>297.505882</td>\n",
       "      <td>305.878268</td>\n",
       "      <td>299.977923</td>\n",
       "    </tr>\n",
       "    <tr>\n",
       "      <th>5</th>\n",
       "      <td>NG</td>\n",
       "      <td>Nigeria</td>\n",
       "      <td>Beans brown,sold loose</td>\n",
       "      <td>units</td>\n",
       "      <td>1kg</td>\n",
       "      <td>240.914433</td>\n",
       "      <td>353.277237</td>\n",
       "      <td>395.343034</td>\n",
       "      <td>368.073977</td>\n",
       "    </tr>\n",
       "    <tr>\n",
       "      <th>6</th>\n",
       "      <td>NG</td>\n",
       "      <td>Nigeria</td>\n",
       "      <td>Vegetable oil:1 bottle</td>\n",
       "      <td>units</td>\n",
       "      <td>1Ltr</td>\n",
       "      <td>348.840000</td>\n",
       "      <td>513.420000</td>\n",
       "      <td>533.453244</td>\n",
       "      <td>506.646564</td>\n",
       "    </tr>\n",
       "    <tr>\n",
       "      <th>7</th>\n",
       "      <td>NG</td>\n",
       "      <td>Nigeria</td>\n",
       "      <td>Palm oil: 1 bottle</td>\n",
       "      <td>units</td>\n",
       "      <td>1Ltr</td>\n",
       "      <td>327.840000</td>\n",
       "      <td>442.040000</td>\n",
       "      <td>492.132941</td>\n",
       "      <td>460.324406</td>\n",
       "    </tr>\n",
       "    <tr>\n",
       "      <th>8</th>\n",
       "      <td>NG</td>\n",
       "      <td>Nigeria</td>\n",
       "      <td>Titus:frozen</td>\n",
       "      <td>units</td>\n",
       "      <td>1kg</td>\n",
       "      <td>712.193643</td>\n",
       "      <td>774.893522</td>\n",
       "      <td>905.757578</td>\n",
       "      <td>945.656213</td>\n",
       "    </tr>\n",
       "    <tr>\n",
       "      <th>9</th>\n",
       "      <td>NG</td>\n",
       "      <td>Nigeria</td>\n",
       "      <td>Yam tuber</td>\n",
       "      <td>units</td>\n",
       "      <td>1kg</td>\n",
       "      <td>156.585849</td>\n",
       "      <td>255.864752</td>\n",
       "      <td>254.509000</td>\n",
       "      <td>200.882499</td>\n",
       "    </tr>\n",
       "    <tr>\n",
       "      <th>10</th>\n",
       "      <td>NG</td>\n",
       "      <td>Nigeria</td>\n",
       "      <td>Rice,imported high quality sold loose</td>\n",
       "      <td>units</td>\n",
       "      <td>1kg</td>\n",
       "      <td>270.141179</td>\n",
       "      <td>418.706058</td>\n",
       "      <td>363.334932</td>\n",
       "      <td>361.901145</td>\n",
       "    </tr>\n",
       "    <tr>\n",
       "      <th>11</th>\n",
       "      <td>NG</td>\n",
       "      <td>Nigeria</td>\n",
       "      <td>Tomato</td>\n",
       "      <td>units</td>\n",
       "      <td>1kg</td>\n",
       "      <td>207.237698</td>\n",
       "      <td>268.643471</td>\n",
       "      <td>267.094150</td>\n",
       "      <td>240.297190</td>\n",
       "    </tr>\n",
       "  </tbody>\n",
       "</table>\n",
       "</div>"
      ],
      "text/plain": [
       "   State State Name                              Item Name  Scale   Units  \\\n",
       "0     NG    Nigeria                  Rice local sold loose  units     1kg   \n",
       "1     NG    Nigeria                             Onion bulb  units     1kg   \n",
       "2     NG    Nigeria                 Gari yellow,sold loose  units     1kg   \n",
       "3     NG    Nigeria     Evaporated tinned milk(peak), 170g  units  1 unit   \n",
       "4     NG    Nigeria                      Bread sliced 500g  units  1 loaf   \n",
       "5     NG    Nigeria                 Beans brown,sold loose  units     1kg   \n",
       "6     NG    Nigeria                 Vegetable oil:1 bottle  units    1Ltr   \n",
       "7     NG    Nigeria                     Palm oil: 1 bottle  units    1Ltr   \n",
       "8     NG    Nigeria                           Titus:frozen  units     1kg   \n",
       "9     NG    Nigeria                              Yam tuber  units     1kg   \n",
       "10    NG    Nigeria  Rice,imported high quality sold loose  units     1kg   \n",
       "11    NG    Nigeria                                 Tomato  units     1kg   \n",
       "\n",
       "    2016 March  2017 March  2018 March  2019 March  \n",
       "0   200.429963  308.867810  283.567685  280.797321  \n",
       "1   190.804431  246.948910  235.306506  231.905619  \n",
       "2   166.396493  302.047239  243.992510  184.182166  \n",
       "3   139.164720  177.054054  187.610212  188.229615  \n",
       "4   259.291413  297.505882  305.878268  299.977923  \n",
       "5   240.914433  353.277237  395.343034  368.073977  \n",
       "6   348.840000  513.420000  533.453244  506.646564  \n",
       "7   327.840000  442.040000  492.132941  460.324406  \n",
       "8   712.193643  774.893522  905.757578  945.656213  \n",
       "9   156.585849  255.864752  254.509000  200.882499  \n",
       "10  270.141179  418.706058  363.334932  361.901145  \n",
       "11  207.237698  268.643471  267.094150  240.297190  "
      ]
     },
     "execution_count": 52,
     "metadata": {},
     "output_type": "execute_result"
    }
   ],
   "source": [
    "Food_prices"
   ]
  },
  {
   "cell_type": "markdown",
   "metadata": {},
   "source": [
    "<li> Table 2"
   ]
  },
  {
   "cell_type": "markdown",
   "metadata": {},
   "source": [
    "The dataset above shows clearly the current prices of some common foodstuff. In as much as these current prices seem cheaper then its last two years, it still cannot be compared to how much they were as at 2016. This shows that there has a been a huge inflation on foodstuff over the years. "
   ]
  },
  {
   "cell_type": "code",
   "execution_count": 54,
   "metadata": {},
   "outputs": [
    {
     "data": {
      "image/png": "[encoded data removed]",
      "text/plain": [
       "<Figure size 1440x360 with 1 Axes>"
      ]
     },
     "metadata": {
      "needs_background": "light"
     },
     "output_type": "display_data"
    }
   ],
   "source": [
    "%matplotlib inline\n",
    "import matplotlib.pyplot as plt\n",
    "\n",
    "plt.rcParams['figure.figsize'] = (20, 5)\n",
    "sns.countplot(Data['Income sufficiency'], palette = 'Spectral_r')\n",
    "plt.title('Level of Income Satisfaction', fontsize = 20)\n",
    "plt.show()"
   ]
  },
  {
   "cell_type": "markdown",
   "metadata": {},
   "source": [
    "<li> Figure 9\n",
    "\n",
    "<br>0 represents No</br>\n",
    "<br>1 represents Yes </br>"
   ]
  },
  {
   "cell_type": "markdown",
   "metadata": {},
   "source": [
    "Perhaps we should take a look at the employment status of our respondents not minding what their incomes may be."
   ]
  },
  {
   "cell_type": "code",
   "execution_count": 55,
   "metadata": {},
   "outputs": [
    {
     "data": {
      "image/png": "[encoded data removed]",
      "text/plain": [
       "<Figure size 1440x360 with 1 Axes>"
      ]
     },
     "metadata": {
      "needs_background": "light"
     },
     "output_type": "display_data"
    }
   ],
   "source": [
    "%matplotlib inline\n",
    "import matplotlib.pyplot as plt\n",
    "\n",
    "plt.rcParams['figure.figsize'] = (20, 5)\n",
    "sns.countplot(Data['Occupation'], palette = 'Spectral')\n",
    "plt.title('Level of Employment', fontsize = 20)\n",
    "plt.show()"
   ]
  },
  {
   "cell_type": "markdown",
   "metadata": {},
   "source": [
    "<li>Figure 10"
   ]
  },
  {
   "cell_type": "code",
   "execution_count": 56,
   "metadata": {},
   "outputs": [
    {
     "data": {
      "text/plain": [
       "Software Engineering /Computer Design    50\n",
       "Student                                  48\n",
       "Engineering                              31\n",
       "Entrepreneur                             28\n",
       "Financial Services                       27\n",
       "No Job                                   26\n",
       "Student and Working                      23\n",
       "Others                                   18\n",
       "Business                                 16\n",
       "Consultant                               16\n",
       "Health                                   10\n",
       "I don’t know                              9\n",
       "Farmer                                    1\n",
       "Name: Occupation, dtype: int64"
      ]
     },
     "execution_count": 56,
     "metadata": {},
     "output_type": "execute_result"
    }
   ],
   "source": [
    "Data['Occupation'].value_counts()"
   ]
  },
  {
   "cell_type": "markdown",
   "metadata": {},
   "source": [
    "From what we have, 26 people are having No Jobs making approximately 6% of the populance. Assuming those who chose 'Others' are employed but did not have their jobs enlisted, and also assuming those who ticked 'I don't know', as not being fully employed yet."
   ]
  },
  {
   "cell_type": "code",
   "execution_count": 57,
   "metadata": {},
   "outputs": [
    {
     "data": {
      "text/plain": [
       "(12, 12)"
      ]
     },
     "execution_count": 57,
     "metadata": {},
     "output_type": "execute_result"
    }
   ],
   "source": [
    "corr = data.corr()\n",
    "corr.shape\n"
   ]
  },
  {
   "cell_type": "code",
   "execution_count": 58,
   "metadata": {},
   "outputs": [
    {
     "data": {
      "text/plain": [
       "<matplotlib.axes._subplots.AxesSubplot at 0x1af8ab80e80>"
      ]
     },
     "execution_count": 58,
     "metadata": {},
     "output_type": "execute_result"
    },
    {
     "data": {
      "image/png": "[encoded data removed]",
      "text/plain": [
       "<Figure size 1440x1440 with 2 Axes>"
      ]
     },
     "metadata": {
      "needs_background": "light"
     },
     "output_type": "display_data"
    }
   ],
   "source": [
    "# Plotting the heatmap of correlation between features\n",
    "plt.rcParams['figure.figsize']=(20,20)\n",
    "sns.heatmap(corr, cbar=True, fmt='.1f', annot=True, annot_kws={'size':15}, cmap='Blues')"
   ]
  },
  {
   "cell_type": "markdown",
   "metadata": {},
   "source": [
    "<li> Figure 11 </li>"
   ]
  },
  {
   "cell_type": "markdown",
   "metadata": {},
   "source": [
    "The heatmap gives a summary of the relationship between these variables. The horizontal represents the independent variables while the vertical represents the dependents. "
   ]
  },
  {
   "cell_type": "markdown",
   "metadata": {},
   "source": [
    "## 5. Discussion and Conclusion<a id=\"8\"></a>\n",
    "\n"
   ]
  },
  {
   "cell_type": "markdown",
   "metadata": {},
   "source": [
    "In situating the general overview of Nigeria demographic structure and dynamics, a major thrust of discourse is on the nation's economic state. The quality and depth of wellness of the populance will be a large impact on the human development issues in the country, not just about today but tomorrow! \n",
    "\n",
    "It is clear from the presentation above that a lot of people earn relatively low income at the end of the month (Figure 1).\n",
    "According to the chart in Figure 6, we realize that 60% of the masses have between -N21,500 - N50,000 left in their purses before their next earning. Dividing this to what they will be having each day for the thirty days in a month, should give us between -N700 - N1,600. We can sight that there are people who spend their months in debts or perhaps forfeiting a lot of necessities so as to meet up with survival. \n",
    "\n",
    "This calls for a major concern to ensure that a majority of the population do not fall or live in poverty!"
   ]
  },
  {
   "cell_type": "markdown",
   "metadata": {},
   "source": [
    "If Figure 7, tells us that majority of people fall between the ages of 18 - 45, it infers that they are the ones who are most likely to be categorized in the Low and Very low income earners as there are more people in these classes. Individuals of this age group are known to be in their prime and therefore have a lot of dependents to take care of. If one does not have enough for himself, how much more those depending on him? The graph also revealed that older people from 55 - 65 years of age, relatively earn so low.  "
   ]
  },
  {
   "cell_type": "markdown",
   "metadata": {},
   "source": [
    "Solutions can be provided to ease the financial stress of many Nigerians if the state of the nation can be properly looked deep into. First and foremost, more work should be put in our agricultural sector to make us produce our own food which will make it cheaper and affordable for every class across the country. Observing the food prices of some major foodstuffs between 2016-2019 (Table 2), it is very clear that there is an outrageous hike of food price since 2016. Our previous charts tells us that a lot people spend their lives living in debts. How well then, can they afford meals for themselves and families if food being a major necessity is this expensive?\n",
    "\n",
    "<br>Necessary infrastructures that result to the increase in cost of goods and services should be worked on so as to make production and transportation easier and faster. These are specifically in the Power and Road sectors.</br> If this can be done, food production cost and other consumables will be cheaper and a price drop can exist. Even if one may not afford clothings, one should afford feeding. "
   ]
  },
  {
   "cell_type": "markdown",
   "metadata": {},
   "source": [
    "Also, the older dependents who are as well known as retirees, should really be put into consideration when making plans for the country. Many of them almost live the rest of their lives in misery as there are nothing left for them to be part of anymore. If some soft jobs could be provided for people in this category so that they can earn while they still feel part of the society rather than becoming redundant and full burdens to their younger generation."
   ]
  },
  {
   "cell_type": "markdown",
   "metadata": {},
   "source": [
    "Being realistic, things are becoming really expensive and no one knows how soon the government will respond to all of these. We have to survive however, not minding the state of the nation. So it will be a good suggestion for Nigerians to patronise the idea of having more than one source of income. No matter the little earnings from this secondary income, it is better than none. Younger couples should also adopt family planning and know how to organise their homes so as to live according to their incomes. Older dependents on the other hand, should be encouraged as well to get their hands on something their strength can tolerate rather than being a complete dependent. \n",
    "<br>If the citizens and government can work together, it will definitely go a long way in the human development of the masses.</br>"
   ]
  },
  {
   "cell_type": "markdown",
   "metadata": {},
   "source": [
    "This research work had some limitations in getting enough data sets that covered more individuals from other States in the country outside Lagos State due to some constraints. It also had some data input that were unrealistic especially in the Monthly Expenditure and Cumulative Secondary Income columns. Knowing that no amount of technical savviness can be a substitute for little or poor information, we had to work with what we had. Not minding, the visualizations and approach used in this work can be exactly applicable to a better sourced dataset."
   ]
  },
  {
   "cell_type": "markdown",
   "metadata": {},
   "source": [
    "<div class=\"alert alert-danger alertdanger\" style=\"margin-top: 20px\">\n",
    "<h1 align=center><font size = 6>THANK YOU!</font></h1>\n",
    "</div>"
   ]
  }
 ],
 "metadata": {
  "kernelspec": {
   "display_name": "Python 3",
   "language": "python",
   "name": "python3"
  },
  "language_info": {
   "codemirror_mode": {
    "name": "ipython",
    "version": 3
   },
   "file_extension": ".py",
   "mimetype": "text/x-python",
   "name": "python",
   "nbconvert_exporter": "python",
   "pygments_lexer": "ipython3",
   "version": "3.7.3"
  }
 },
 "nbformat": 4,
 "nbformat_minor": 2
}
