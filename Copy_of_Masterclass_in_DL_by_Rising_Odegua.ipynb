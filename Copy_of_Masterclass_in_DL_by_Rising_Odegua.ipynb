{
  "nbformat": 4,
  "nbformat_minor": 0,
  "metadata": {
    "colab": {
      "name": "Copy of Masterclass in DL by Rising Odegua.ipynb",
      "provenance": [],
      "collapsed_sections": [],
      "include_colab_link": true
    },
    "kernelspec": {
      "name": "python3",
      "display_name": "Python 3"
    }
  },
  "cells": [
    {
      "cell_type": "markdown",
      "metadata": {
        "id": "view-in-github",
        "colab_type": "text"
      },
      "source": [
        "<a href=\"https://colab.research.google.com/github/sharonibejih/AI-SATURDAY-PROJECT/blob/master/Copy_of_Masterclass_in_DL_by_Rising_Odegua.ipynb\" target=\"_parent\"><img src=\"https://colab.research.google.com/assets/colab-badge.svg\" alt=\"Open In Colab\"/></a>"
      ]
    },
    {
      "cell_type": "markdown",
      "metadata": {
        "id": "r7R4-tJV8oAy",
        "colab_type": "text"
      },
      "source": [
        "## Master Class in Deep Neural Networks\n",
        "\n",
        "Building a Neural Network from Scratch\n",
        "\n",
        "__Date:__ Friday, 27th March 2020\n",
        "\n",
        "__Time:__ 10am-2pm\n",
        "\n",
        "__Facilitator:__ Rising Odegua, Data Scientist & Researcher, Data Science Nigeria"
      ]
    },
    {
      "cell_type": "markdown",
      "metadata": {
        "id": "wM9WV9-NB7k0",
        "colab_type": "text"
      },
      "source": [
        "Data Link: https://archive.ics.uci.edu/ml/machine-learning-databases/breast-cancer-wisconsin/"
      ]
    },
    {
      "cell_type": "code",
      "metadata": {
        "id": "GGlUWsaO8wJW",
        "colab_type": "code",
        "colab": {}
      },
      "source": [
        "import pandas as pd\n",
        "import numpy as np\n",
        "import matplotlib.pyplot as plt\n",
        "from pathlib import Path"
      ],
      "execution_count": 0,
      "outputs": []
    },
    {
      "cell_type": "code",
      "metadata": {
        "id": "PHywLBcRJoSY",
        "colab_type": "code",
        "colab": {}
      },
      "source": [
        "data_path = Path('/content/breast-cancer-wisconsin.data')"
      ],
      "execution_count": 0,
      "outputs": []
    },
    {
      "cell_type": "code",
      "metadata": {
        "id": "kxwxcOfHX4_1",
        "colab_type": "code",
        "outputId": "ee6981f8-8cbe-40a2-91f5-0dbc203d0346",
        "colab": {
          "base_uri": "https://localhost:8080/",
          "height": 237
        }
      },
      "source": [
        "headers = ['id', 'Clump Thickness', 'Uniformity Cell Size',\n",
        "          'Uniformity Cell Shape', 'Marginal Adhesion',\n",
        "          'Single Epithelial Cell Size', 'Bare Nuclei','Bland Chromatin',\n",
        "          'Normal Nucleoli','Mitoses','Class']\n",
        "        \n",
        "cancer_df = pd.read_csv(data_path, names=headers)\n",
        "cancer_df.head()"
      ],
      "execution_count": 0,
      "outputs": [
        {
          "output_type": "execute_result",
          "data": {
            "text/html": [
              "<div>\n",
              "<style scoped>\n",
              "    .dataframe tbody tr th:only-of-type {\n",
              "        vertical-align: middle;\n",
              "    }\n",
              "\n",
              "    .dataframe tbody tr th {\n",
              "        vertical-align: top;\n",
              "    }\n",
              "\n",
              "    .dataframe thead th {\n",
              "        text-align: right;\n",
              "    }\n",
              "</style>\n",
              "<table border=\"1\" class=\"dataframe\">\n",
              "  <thead>\n",
              "    <tr style=\"text-align: right;\">\n",
              "      <th></th>\n",
              "      <th>id</th>\n",
              "      <th>Clump Thickness</th>\n",
              "      <th>Uniformity Cell Size</th>\n",
              "      <th>Uniformity Cell Shape</th>\n",
              "      <th>Marginal Adhesion</th>\n",
              "      <th>Single Epithelial Cell Size</th>\n",
              "      <th>Bare Nuclei</th>\n",
              "      <th>Bland Chromatin</th>\n",
              "      <th>Normal Nucleoli</th>\n",
              "      <th>Mitoses</th>\n",
              "      <th>Class</th>\n",
              "    </tr>\n",
              "  </thead>\n",
              "  <tbody>\n",
              "    <tr>\n",
              "      <th>0</th>\n",
              "      <td>1000025</td>\n",
              "      <td>5</td>\n",
              "      <td>1</td>\n",
              "      <td>1</td>\n",
              "      <td>1</td>\n",
              "      <td>2</td>\n",
              "      <td>1</td>\n",
              "      <td>3</td>\n",
              "      <td>1</td>\n",
              "      <td>1</td>\n",
              "      <td>2</td>\n",
              "    </tr>\n",
              "    <tr>\n",
              "      <th>1</th>\n",
              "      <td>1002945</td>\n",
              "      <td>5</td>\n",
              "      <td>4</td>\n",
              "      <td>4</td>\n",
              "      <td>5</td>\n",
              "      <td>7</td>\n",
              "      <td>10</td>\n",
              "      <td>3</td>\n",
              "      <td>2</td>\n",
              "      <td>1</td>\n",
              "      <td>2</td>\n",
              "    </tr>\n",
              "    <tr>\n",
              "      <th>2</th>\n",
              "      <td>1015425</td>\n",
              "      <td>3</td>\n",
              "      <td>1</td>\n",
              "      <td>1</td>\n",
              "      <td>1</td>\n",
              "      <td>2</td>\n",
              "      <td>2</td>\n",
              "      <td>3</td>\n",
              "      <td>1</td>\n",
              "      <td>1</td>\n",
              "      <td>2</td>\n",
              "    </tr>\n",
              "    <tr>\n",
              "      <th>3</th>\n",
              "      <td>1016277</td>\n",
              "      <td>6</td>\n",
              "      <td>8</td>\n",
              "      <td>8</td>\n",
              "      <td>1</td>\n",
              "      <td>3</td>\n",
              "      <td>4</td>\n",
              "      <td>3</td>\n",
              "      <td>7</td>\n",
              "      <td>1</td>\n",
              "      <td>2</td>\n",
              "    </tr>\n",
              "    <tr>\n",
              "      <th>4</th>\n",
              "      <td>1017023</td>\n",
              "      <td>4</td>\n",
              "      <td>1</td>\n",
              "      <td>1</td>\n",
              "      <td>3</td>\n",
              "      <td>2</td>\n",
              "      <td>1</td>\n",
              "      <td>3</td>\n",
              "      <td>1</td>\n",
              "      <td>1</td>\n",
              "      <td>2</td>\n",
              "    </tr>\n",
              "  </tbody>\n",
              "</table>\n",
              "</div>"
            ],
            "text/plain": [
              "        id  Clump Thickness  ...  Mitoses  Class\n",
              "0  1000025                5  ...        1      2\n",
              "1  1002945                5  ...        1      2\n",
              "2  1015425                3  ...        1      2\n",
              "3  1016277                6  ...        1      2\n",
              "4  1017023                4  ...        1      2\n",
              "\n",
              "[5 rows x 11 columns]"
            ]
          },
          "metadata": {
            "tags": []
          },
          "execution_count": 3
        }
      ]
    },
    {
      "cell_type": "code",
      "metadata": {
        "id": "WtW6BGnHYDT9",
        "colab_type": "code",
        "outputId": "b584a923-8296-4937-b52d-b3ec528c941b",
        "colab": {
          "base_uri": "https://localhost:8080/",
          "height": 69
        }
      },
      "source": [
        "cancer_df['Class'].value_counts()"
      ],
      "execution_count": 0,
      "outputs": [
        {
          "output_type": "execute_result",
          "data": {
            "text/plain": [
              "2    458\n",
              "4    241\n",
              "Name: Class, dtype: int64"
            ]
          },
          "metadata": {
            "tags": []
          },
          "execution_count": 4
        }
      ]
    },
    {
      "cell_type": "code",
      "metadata": {
        "id": "pTM4EG_9YuBb",
        "colab_type": "code",
        "colab": {}
      },
      "source": [
        "cancer_df['Class'] = cancer_df['Class'].map({2:0, 4:1})"
      ],
      "execution_count": 0,
      "outputs": []
    },
    {
      "cell_type": "code",
      "metadata": {
        "id": "wC7SqfIOZGTQ",
        "colab_type": "code",
        "outputId": "77242be8-9174-4a39-81ef-a09d6c325b24",
        "colab": {
          "base_uri": "https://localhost:8080/",
          "height": 69
        }
      },
      "source": [
        "cancer_df['Class'].value_counts()"
      ],
      "execution_count": 0,
      "outputs": [
        {
          "output_type": "execute_result",
          "data": {
            "text/plain": [
              "0    458\n",
              "1    241\n",
              "Name: Class, dtype: int64"
            ]
          },
          "metadata": {
            "tags": []
          },
          "execution_count": 6
        }
      ]
    },
    {
      "cell_type": "code",
      "metadata": {
        "id": "plqVVukJZJI_",
        "colab_type": "code",
        "outputId": "fc53a3b4-e966-4430-ee62-be65d0ee24e3",
        "colab": {
          "base_uri": "https://localhost:8080/",
          "height": 225
        }
      },
      "source": [
        "cancer_df.isna().sum()"
      ],
      "execution_count": 0,
      "outputs": [
        {
          "output_type": "execute_result",
          "data": {
            "text/plain": [
              "id                             0\n",
              "Clump Thickness                0\n",
              "Uniformity Cell Size           0\n",
              "Uniformity Cell Shape          0\n",
              "Marginal Adhesion              0\n",
              "Single Epithelial Cell Size    0\n",
              "Bare Nuclei                    0\n",
              "Bland Chromatin                0\n",
              "Normal Nucleoli                0\n",
              "Mitoses                        0\n",
              "Class                          0\n",
              "dtype: int64"
            ]
          },
          "metadata": {
            "tags": []
          },
          "execution_count": 7
        }
      ]
    },
    {
      "cell_type": "code",
      "metadata": {
        "id": "hzIcbT9pZru4",
        "colab_type": "code",
        "outputId": "746a1615-cd83-4832-e21a-23e3f135ac91",
        "colab": {
          "base_uri": "https://localhost:8080/",
          "height": 52
        }
      },
      "source": [
        "cancer_df['Bare Nuclei'].unique()"
      ],
      "execution_count": 0,
      "outputs": [
        {
          "output_type": "execute_result",
          "data": {
            "text/plain": [
              "array(['1', '10', '2', '4', '3', '9', '7', '?', '5', '8', '6'],\n",
              "      dtype=object)"
            ]
          },
          "metadata": {
            "tags": []
          },
          "execution_count": 8
        }
      ]
    },
    {
      "cell_type": "code",
      "metadata": {
        "id": "etEQCw63Z5vy",
        "colab_type": "code",
        "outputId": "46da9baa-49da-4afa-e512-c77200781461",
        "colab": {
          "base_uri": "https://localhost:8080/",
          "height": 225
        }
      },
      "source": [
        "cancer_df.dtypes"
      ],
      "execution_count": 0,
      "outputs": [
        {
          "output_type": "execute_result",
          "data": {
            "text/plain": [
              "id                              int64\n",
              "Clump Thickness                 int64\n",
              "Uniformity Cell Size            int64\n",
              "Uniformity Cell Shape           int64\n",
              "Marginal Adhesion               int64\n",
              "Single Epithelial Cell Size     int64\n",
              "Bare Nuclei                    object\n",
              "Bland Chromatin                 int64\n",
              "Normal Nucleoli                 int64\n",
              "Mitoses                         int64\n",
              "Class                           int64\n",
              "dtype: object"
            ]
          },
          "metadata": {
            "tags": []
          },
          "execution_count": 9
        }
      ]
    },
    {
      "cell_type": "code",
      "metadata": {
        "id": "vuvgIBjsaGe5",
        "colab_type": "code",
        "outputId": "11c5c684-09b5-40af-a1e5-e859398d9d2c",
        "colab": {
          "base_uri": "https://localhost:8080/",
          "height": 225
        }
      },
      "source": [
        "cancer_df['Bare Nuclei'].value_counts()"
      ],
      "execution_count": 0,
      "outputs": [
        {
          "output_type": "execute_result",
          "data": {
            "text/plain": [
              "1     402\n",
              "10    132\n",
              "5      30\n",
              "2      30\n",
              "3      28\n",
              "8      21\n",
              "4      19\n",
              "?      16\n",
              "9       9\n",
              "7       8\n",
              "6       4\n",
              "Name: Bare Nuclei, dtype: int64"
            ]
          },
          "metadata": {
            "tags": []
          },
          "execution_count": 10
        }
      ]
    },
    {
      "cell_type": "code",
      "metadata": {
        "id": "1YKZC13haYBy",
        "colab_type": "code",
        "colab": {}
      },
      "source": [
        "cancer_df['Bare Nuclei'] = cancer_df['Bare Nuclei'].replace('?', '1')"
      ],
      "execution_count": 0,
      "outputs": []
    },
    {
      "cell_type": "code",
      "metadata": {
        "id": "bxyUxl_aa_ZA",
        "colab_type": "code",
        "colab": {}
      },
      "source": [
        "cancer_df = cancer_df.astype('int64')"
      ],
      "execution_count": 0,
      "outputs": []
    },
    {
      "cell_type": "code",
      "metadata": {
        "id": "Eat9Dc2mbFgK",
        "colab_type": "code",
        "outputId": "6a395814-612b-48ec-cf07-31f87d66f4da",
        "colab": {
          "base_uri": "https://localhost:8080/",
          "height": 225
        }
      },
      "source": [
        "cancer_df.dtypes"
      ],
      "execution_count": 0,
      "outputs": [
        {
          "output_type": "execute_result",
          "data": {
            "text/plain": [
              "id                             int64\n",
              "Clump Thickness                int64\n",
              "Uniformity Cell Size           int64\n",
              "Uniformity Cell Shape          int64\n",
              "Marginal Adhesion              int64\n",
              "Single Epithelial Cell Size    int64\n",
              "Bare Nuclei                    int64\n",
              "Bland Chromatin                int64\n",
              "Normal Nucleoli                int64\n",
              "Mitoses                        int64\n",
              "Class                          int64\n",
              "dtype: object"
            ]
          },
          "metadata": {
            "tags": []
          },
          "execution_count": 13
        }
      ]
    },
    {
      "cell_type": "code",
      "metadata": {
        "id": "G4UCo9szbKVE",
        "colab_type": "code",
        "colab": {}
      },
      "source": [
        ""
      ],
      "execution_count": 0,
      "outputs": []
    },
    {
      "cell_type": "markdown",
      "metadata": {
        "id": "uMRs2fpEbYD2",
        "colab_type": "text"
      },
      "source": [
        "# https://bit.ly/3aozXeW"
      ]
    },
    {
      "cell_type": "code",
      "metadata": {
        "id": "ksk8iZjEbpuH",
        "colab_type": "code",
        "outputId": "8e949e9a-443b-4a92-bc79-f9ac041fc177",
        "colab": {
          "base_uri": "https://localhost:8080/",
          "height": 237
        }
      },
      "source": [
        "cancer_df.head()"
      ],
      "execution_count": 0,
      "outputs": [
        {
          "output_type": "execute_result",
          "data": {
            "text/html": [
              "<div>\n",
              "<style scoped>\n",
              "    .dataframe tbody tr th:only-of-type {\n",
              "        vertical-align: middle;\n",
              "    }\n",
              "\n",
              "    .dataframe tbody tr th {\n",
              "        vertical-align: top;\n",
              "    }\n",
              "\n",
              "    .dataframe thead th {\n",
              "        text-align: right;\n",
              "    }\n",
              "</style>\n",
              "<table border=\"1\" class=\"dataframe\">\n",
              "  <thead>\n",
              "    <tr style=\"text-align: right;\">\n",
              "      <th></th>\n",
              "      <th>id</th>\n",
              "      <th>Clump Thickness</th>\n",
              "      <th>Uniformity Cell Size</th>\n",
              "      <th>Uniformity Cell Shape</th>\n",
              "      <th>Marginal Adhesion</th>\n",
              "      <th>Single Epithelial Cell Size</th>\n",
              "      <th>Bare Nuclei</th>\n",
              "      <th>Bland Chromatin</th>\n",
              "      <th>Normal Nucleoli</th>\n",
              "      <th>Mitoses</th>\n",
              "      <th>Class</th>\n",
              "    </tr>\n",
              "  </thead>\n",
              "  <tbody>\n",
              "    <tr>\n",
              "      <th>0</th>\n",
              "      <td>1000025</td>\n",
              "      <td>5</td>\n",
              "      <td>1</td>\n",
              "      <td>1</td>\n",
              "      <td>1</td>\n",
              "      <td>2</td>\n",
              "      <td>1</td>\n",
              "      <td>3</td>\n",
              "      <td>1</td>\n",
              "      <td>1</td>\n",
              "      <td>0</td>\n",
              "    </tr>\n",
              "    <tr>\n",
              "      <th>1</th>\n",
              "      <td>1002945</td>\n",
              "      <td>5</td>\n",
              "      <td>4</td>\n",
              "      <td>4</td>\n",
              "      <td>5</td>\n",
              "      <td>7</td>\n",
              "      <td>10</td>\n",
              "      <td>3</td>\n",
              "      <td>2</td>\n",
              "      <td>1</td>\n",
              "      <td>0</td>\n",
              "    </tr>\n",
              "    <tr>\n",
              "      <th>2</th>\n",
              "      <td>1015425</td>\n",
              "      <td>3</td>\n",
              "      <td>1</td>\n",
              "      <td>1</td>\n",
              "      <td>1</td>\n",
              "      <td>2</td>\n",
              "      <td>2</td>\n",
              "      <td>3</td>\n",
              "      <td>1</td>\n",
              "      <td>1</td>\n",
              "      <td>0</td>\n",
              "    </tr>\n",
              "    <tr>\n",
              "      <th>3</th>\n",
              "      <td>1016277</td>\n",
              "      <td>6</td>\n",
              "      <td>8</td>\n",
              "      <td>8</td>\n",
              "      <td>1</td>\n",
              "      <td>3</td>\n",
              "      <td>4</td>\n",
              "      <td>3</td>\n",
              "      <td>7</td>\n",
              "      <td>1</td>\n",
              "      <td>0</td>\n",
              "    </tr>\n",
              "    <tr>\n",
              "      <th>4</th>\n",
              "      <td>1017023</td>\n",
              "      <td>4</td>\n",
              "      <td>1</td>\n",
              "      <td>1</td>\n",
              "      <td>3</td>\n",
              "      <td>2</td>\n",
              "      <td>1</td>\n",
              "      <td>3</td>\n",
              "      <td>1</td>\n",
              "      <td>1</td>\n",
              "      <td>0</td>\n",
              "    </tr>\n",
              "  </tbody>\n",
              "</table>\n",
              "</div>"
            ],
            "text/plain": [
              "        id  Clump Thickness  ...  Mitoses  Class\n",
              "0  1000025                5  ...        1      0\n",
              "1  1002945                5  ...        1      0\n",
              "2  1015425                3  ...        1      0\n",
              "3  1016277                6  ...        1      0\n",
              "4  1017023                4  ...        1      0\n",
              "\n",
              "[5 rows x 11 columns]"
            ]
          },
          "metadata": {
            "tags": []
          },
          "execution_count": 14
        }
      ]
    },
    {
      "cell_type": "code",
      "metadata": {
        "id": "5-C9CFnub4Ck",
        "colab_type": "code",
        "colab": {}
      },
      "source": [
        "cancer_df.drop(columns='id', inplace=True)"
      ],
      "execution_count": 0,
      "outputs": []
    },
    {
      "cell_type": "code",
      "metadata": {
        "id": "9LcVdgUUcAGY",
        "colab_type": "code",
        "colab": {}
      },
      "source": [
        "from sklearn.model_selection import train_test_split\n",
        "from sklearn.preprocessing import StandardScaler\n",
        "\n",
        "X_in = cancer_df.drop(columns='Class')\n",
        "y_in = cancer_df['Class'].values.reshape(-1,1)\n",
        "\n",
        "Xtrain, Xtest, ytrain, ytest = train_test_split(X_in, y_in, test_size=0.2, random_state=8)\n",
        "\n",
        "sc = StandardScaler()\n",
        "sc.fit(Xtrain)\n",
        "Xtrain = sc.transform(Xtrain)\n",
        "Xtest = sc.transform(Xtest)"
      ],
      "execution_count": 0,
      "outputs": []
    },
    {
      "cell_type": "code",
      "metadata": {
        "id": "UlzNKHJhcIrU",
        "colab_type": "code",
        "outputId": "48389110-f441-4ad2-88c5-4f9433776eb6",
        "colab": {
          "base_uri": "https://localhost:8080/",
          "height": 35
        }
      },
      "source": [
        "Xtrain.shape"
      ],
      "execution_count": 0,
      "outputs": [
        {
          "output_type": "execute_result",
          "data": {
            "text/plain": [
              "(559, 9)"
            ]
          },
          "metadata": {
            "tags": []
          },
          "execution_count": 17
        }
      ]
    },
    {
      "cell_type": "code",
      "metadata": {
        "id": "r3r82RQfctAS",
        "colab_type": "code",
        "outputId": "98d91ae0-a970-4af7-d674-4d83f8a601b3",
        "colab": {
          "base_uri": "https://localhost:8080/",
          "height": 35
        }
      },
      "source": [
        "ytrain.shape"
      ],
      "execution_count": 0,
      "outputs": [
        {
          "output_type": "execute_result",
          "data": {
            "text/plain": [
              "(559, 1)"
            ]
          },
          "metadata": {
            "tags": []
          },
          "execution_count": 18
        }
      ]
    },
    {
      "cell_type": "markdown",
      "metadata": {
        "id": "ehqk8cvidg4c",
        "colab_type": "text"
      },
      "source": [
        "## Neural Network"
      ]
    },
    {
      "cell_type": "code",
      "metadata": {
        "id": "ctQBpRolkzy4",
        "colab_type": "code",
        "colab": {}
      },
      "source": [
        "X_in = Xtrain\n",
        "y = ytrain \n",
        "\n",
        "cost_list = []\n",
        "layers = [9,4,1]\n",
        "lr = 0.001\n",
        "nn_params = {}\n",
        "\n",
        "np.random.seed(2)\n",
        "#initialize weights and biases\n",
        "nn_params['W1'] = np.random.randn(layers[0],layers[1]) \n",
        "nn_params['W2'] = np.random.randn(layers[1],layers[2]) \n",
        "nn_params['b1'] = np.random.randn(layers[1],)\n",
        "nn_params['b2'] = np.random.randn(layers[2],)\n",
        "\n",
        "#Activations\n",
        "def relu(Z):\n",
        "  return np.maximum(0, Z)\n",
        "\n",
        "def sigmoid(Z):\n",
        "  return 1.0 / (1.0 + np.exp(-Z))\n",
        "\n",
        "#binary cross entropy loss\n",
        "def entropy_loss(Y, Yhat):\n",
        "  nsample = len(y)\n",
        "  loss = -1/nsample * (np.sum(np.multiply(np.log(Yhat), Y) + np.multiply((1 - Y), np.log(1 - Yhat))))\n",
        "  return loss\n",
        "\n",
        "for i in range(100):\n",
        "  #forward propagation\n",
        "  Z1 = X_in.dot(nn_params['W1']) + nn_params['b1']\n",
        "  A1 = relu(Z1)\n",
        "  Z2 = A1.dot(nn_params['W2']) + nn_params['b2']\n",
        "  yhat = sigmoid(Z2)\n",
        "  cost = entropy_loss(y,yhat)\n",
        "  cost_list.append(cost)\n",
        "\n",
        "  #Backpropagation\n",
        "  dl_wrt_yhat = -(np.divide(y,yhat) - np.divide((1 - y),(1-yhat)))\n",
        "  dl_wrt_sig = yhat * (1-yhat)\n",
        "  dl_wrt_z2 = dl_wrt_yhat * dl_wrt_sig\n",
        "  dl_wrt_A1 = dl_wrt_z2.dot(nn_params['W2'].T)\n",
        "  dl_wrt_w2 = A1.T.dot(dl_wrt_z2)\n",
        "  dl_wrt_b2 = np.sum(dl_wrt_z2, axis=0)\n",
        "\n",
        "  def dRelu(x):\n",
        "      x[x<=0] = 0\n",
        "      x[x>0] = 1\n",
        "      return x\n",
        "\n",
        "  dl_wrt_z1 = dl_wrt_A1 * dRelu(Z1)\n",
        "  dl_wrt_w1 = X_in.T.dot(dl_wrt_z1)\n",
        "  dl_wrt_b1 = np.sum(dl_wrt_z1, axis=0)\n",
        "\n",
        "\n",
        "  #updates\n",
        "  nn_params['W1'] = nn_params['W1'] - lr * dl_wrt_w1\n",
        "  nn_params['W2'] = nn_params['W2'] - lr * dl_wrt_w2\n",
        "  nn_params['b1'] = nn_params['b1'] - lr * dl_wrt_b1\n",
        "  nn_params['b2'] = nn_params['b2'] - lr * dl_wrt_b2\n"
      ],
      "execution_count": 0,
      "outputs": []
    },
    {
      "cell_type": "code",
      "metadata": {
        "id": "k_t_noi4tZcw",
        "colab_type": "code",
        "outputId": "ca27b38b-9594-4b3e-cb45-9fd934f51a94",
        "colab": {
          "base_uri": "https://localhost:8080/",
          "height": 283
        }
      },
      "source": [
        "plt.plot(cost_list)"
      ],
      "execution_count": 0,
      "outputs": [
        {
          "output_type": "execute_result",
          "data": {
            "text/plain": [
              "[<matplotlib.lines.Line2D at 0x7fa65c4eaa58>]"
            ]
          },
          "metadata": {
            "tags": []
          },
          "execution_count": 36
        },
        {
          "output_type": "display_data",
          "data": {
            "image/png": "[encoded data removed]",
            "text/plain": [
              "<Figure size 432x288 with 1 Axes>"
            ]
          },
          "metadata": {
            "tags": []
          }
        }
      ]
    },
    {
      "cell_type": "code",
      "metadata": {
        "id": "yHeKTqSizniX",
        "colab_type": "code",
        "colab": {}
      },
      "source": [
        "def predict(X):\n",
        "  ##Forward propagation\n",
        "  Z1 = X.dot(nn_params['W1']) + nn_params['b1']\n",
        "  A1 = relu(Z1)\n",
        "  Z2 = A1.dot(nn_params['W2']) + nn_params['b2']\n",
        "  yhat = sigmoid(Z2)\n",
        "  return np.round(yhat)\n",
        "\n",
        "\n",
        "def accuracy(y,yhat):\n",
        "  acc = int(sum((y == yhat) ) / len(yhat) * 100)\n",
        "  return acc"
      ],
      "execution_count": 0,
      "outputs": []
    },
    {
      "cell_type": "code",
      "metadata": {
        "id": "DboIwGjLt9GR",
        "colab_type": "code",
        "colab": {}
      },
      "source": [
        "preds = predict(Xtrain)"
      ],
      "execution_count": 0,
      "outputs": []
    },
    {
      "cell_type": "code",
      "metadata": {
        "id": "Dg2hkwa20YbZ",
        "colab_type": "code",
        "outputId": "6d42e91f-5729-4d6f-98b7-4315b9a5b22b",
        "colab": {
          "base_uri": "https://localhost:8080/",
          "height": 35
        }
      },
      "source": [
        "accuracy(ytrain, preds)"
      ],
      "execution_count": 0,
      "outputs": [
        {
          "output_type": "execute_result",
          "data": {
            "text/plain": [
              "97"
            ]
          },
          "metadata": {
            "tags": []
          },
          "execution_count": 39
        }
      ]
    },
    {
      "cell_type": "code",
      "metadata": {
        "id": "VJMMhC7KBxdS",
        "colab_type": "code",
        "colab": {}
      },
      "source": [
        "testpreds = predict(Xtest)"
      ],
      "execution_count": 0,
      "outputs": []
    },
    {
      "cell_type": "code",
      "metadata": {
        "id": "ct7TdMLqB0gg",
        "colab_type": "code",
        "outputId": "45307822-0231-4885-8b14-fc8fc4657d28",
        "colab": {
          "base_uri": "https://localhost:8080/",
          "height": 35
        }
      },
      "source": [
        "accuracy(ytest, testpreds)"
      ],
      "execution_count": 0,
      "outputs": [
        {
          "output_type": "execute_result",
          "data": {
            "text/plain": [
              "94"
            ]
          },
          "metadata": {
            "tags": []
          },
          "execution_count": 41
        }
      ]
    },
    {
      "cell_type": "code",
      "metadata": {
        "id": "611T6UQ6B4tD",
        "colab_type": "code",
        "colab": {}
      },
      "source": [
        "class NeuralNetSt():\n",
        "  np.random.seed(2)\n",
        "  \n",
        "  def __init__(self, layers=[9,4,1], lr=0.001, iterations=100):\n",
        "    self.layers = layers\n",
        "    self.lr = lr\n",
        "    self.params = {}\n",
        "    self.cost = []\n",
        "    self.iterations = iterations\n",
        "    self.X = None\n",
        "    self.y = None\n",
        "    \n",
        "\n",
        "\n",
        "  def _init_weights(self):\n",
        "    #initialize weights and biases\n",
        "    self.params['W1'] = np.random.randn(self.layers[0],self.layers[1]) \n",
        "    self.params['W2'] = np.random.randn(self.layers[1],self.layers[2]) \n",
        "    self.params['b1'] = np.random.randn(self.layers[1],)\n",
        "    self.params['b2'] = np.random.randn(self.layers[2],)\n",
        "\n",
        "  def _relu(self,Z):\n",
        "    return np.maximum(0, Z)\n",
        "\n",
        "  def _sigmoid(self,Z):\n",
        "    return 1.0 / (1.0 + np.exp(-Z))\n",
        "\n",
        "  def _dRelu(self,x):\n",
        "    x[x<=0] = 0\n",
        "    x[x>0] = 1\n",
        "    return x\n",
        "\n",
        "  #binary cross entropy loss\n",
        "  def _entropy_loss(self,Y, Yhat):\n",
        "    nsample = len(y)\n",
        "    loss = -1/nsample * (np.sum(np.multiply(np.log(Yhat), Y) + np.multiply((1 - Y), np.log(1 - Yhat))))\n",
        "    loss = np.squeeze(loss)\n",
        "    return loss\n",
        "\n",
        "\n",
        "  def _forward_prop(self):\n",
        "    #forward propagation\n",
        "    Z1 = self.X.dot(self.params['W1']) + self.params['b1']\n",
        "    A1 = self._relu(Z1)\n",
        "    Z2 = A1.dot(self.params['W2']) + self.params['b2']\n",
        "    yhat = self._sigmoid(Z2)\n",
        "    cost = self._entropy_loss(self.y,yhat)\n",
        "\n",
        "    #save parameters\n",
        "    self.params['Z1'] = Z1\n",
        "    self.params['A1'] = A1\n",
        "    self.params['Z2'] = Z2\n",
        "\n",
        "    return yhat,cost\n",
        "\n",
        "\n",
        "  def _backward_prop(self,yhat):\n",
        "    #Backpropagation\n",
        "    dl_wrt_yhat = -(np.divide(self.y,yhat) - np.divide((1 - self.y),(1-yhat)))\n",
        "    dl_wrt_sig = yhat * (1-yhat)\n",
        "    dl_wrt_z2 = dl_wrt_yhat * dl_wrt_sig\n",
        "\n",
        "    dl_wrt_A1 = dl_wrt_z2.dot(self.params['W2'].T)\n",
        "    dl_wrt_w2 = self.params['A1'].T.dot(dl_wrt_z2)\n",
        "    dl_wrt_b2 = np.sum(dl_wrt_z2, axis=0)\n",
        "\n",
        "    dl_wrt_z1 = dl_wrt_A1 * self._dRelu(self.params['Z1'])\n",
        "    dl_wrt_w1 = self.X.T.dot(dl_wrt_z1)\n",
        "    dl_wrt_b1 = np.sum(dl_wrt_z1, axis=0)\n",
        "\n",
        "    #updates\n",
        "    self.params['W1'] = self.params['W1'] - self.lr * dl_wrt_w1\n",
        "    self.params['W2'] = self.params['W2'] - self.lr * dl_wrt_w2\n",
        "    self.params['b1'] = self.params['b1'] - self.lr * dl_wrt_b1\n",
        "    self.params['b2'] = self.params['b2'] - self.lr * dl_wrt_b2\n",
        "\n",
        "  \n",
        "  def fit(self,X, y):\n",
        "    self.X = X\n",
        "    self.y = y\n",
        "    self._init_weights()\n",
        "\n",
        "    for i in range(self.iterations):\n",
        "      yhat, loss = self._forward_prop()\n",
        "      self.cost.append(loss)\n",
        "      self._backward_prop(yhat)\n",
        "    \n",
        "\n",
        "  def predict(self, X):\n",
        "    Z1 = X.dot(self.params['W1']) + self.params['b1']\n",
        "    A1 = self._relu(Z1)\n",
        "    Z2 = A1.dot(self.params['W2']) + self.params['b2']\n",
        "    pred = self._sigmoid(Z2)\n",
        "    return np.round(pred)\n",
        "\n",
        "\n",
        "  def plot_loss(self):\n",
        "    plt.plot(self.cost)\n",
        "    plt.title(f\"Loss curve for {self.iterations} iterations\")\n",
        "    plt.xlabel(\"iterations\")\n",
        "    plt.ylabel(\"loss\")\n",
        "    plt.show()\n",
        "\n",
        "\n",
        "  def accuracy(self, y, yhat):\n",
        "    return int(sum((y == yhat) ) / len(y) * 100)\n",
        "\n",
        "  "
      ],
      "execution_count": 0,
      "outputs": []
    },
    {
      "cell_type": "code",
      "metadata": {
        "id": "Rwedxaw9C8LC",
        "colab_type": "code",
        "colab": {}
      },
      "source": [
        "mynet = NeuralNetSt()"
      ],
      "execution_count": 0,
      "outputs": []
    },
    {
      "cell_type": "code",
      "metadata": {
        "id": "oDzmgzXlDCMg",
        "colab_type": "code",
        "colab": {}
      },
      "source": [
        "mynet.fit(Xtrain, ytrain)"
      ],
      "execution_count": 0,
      "outputs": []
    },
    {
      "cell_type": "code",
      "metadata": {
        "id": "CClXDBOJDMd9",
        "colab_type": "code",
        "colab": {}
      },
      "source": [
        "preds = mynet.predict(Xtest)"
      ],
      "execution_count": 0,
      "outputs": []
    },
    {
      "cell_type": "code",
      "metadata": {
        "id": "mRxP4wo9DQrp",
        "colab_type": "code",
        "outputId": "dd2a4502-93b3-4f1a-c2a3-48c4d1581c62",
        "colab": {
          "base_uri": "https://localhost:8080/",
          "height": 35
        }
      },
      "source": [
        "mynet.accuracy(preds, ytest)"
      ],
      "execution_count": 0,
      "outputs": [
        {
          "output_type": "execute_result",
          "data": {
            "text/plain": [
              "95"
            ]
          },
          "metadata": {
            "tags": []
          },
          "execution_count": 49
        }
      ]
    },
    {
      "cell_type": "code",
      "metadata": {
        "id": "a-cykgHYDRxD",
        "colab_type": "code",
        "outputId": "30a308c8-7a6b-4f20-986c-35dad40f2b2d",
        "colab": {
          "base_uri": "https://localhost:8080/",
          "height": 295
        }
      },
      "source": [
        "mynet.plot_loss()"
      ],
      "execution_count": 0,
      "outputs": [
        {
          "output_type": "display_data",
          "data": {
            "image/png": "[encoded data removed]",
            "text/plain": [
              "<Figure size 432x288 with 1 Axes>"
            ]
          },
          "metadata": {
            "tags": []
          }
        }
      ]
    },
    {
      "cell_type": "code",
      "metadata": {
        "id": "9Fu1LPKKDcqo",
        "colab_type": "code",
        "colab": {}
      },
      "source": [
        ""
      ],
      "execution_count": 0,
      "outputs": []
    }
  ]
}